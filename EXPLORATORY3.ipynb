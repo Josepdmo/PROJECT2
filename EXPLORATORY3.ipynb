{
 "cells": [
  {
   "cell_type": "markdown",
   "metadata": {},
   "source": [
    "# Step 1 - Importing all libraries used throughout the project"
   ]
  },
  {
   "cell_type": "code",
   "execution_count": 2,
   "metadata": {},
   "outputs": [],
   "source": [
    "import pandas as pd\n",
    "import numpy as np\n",
    "import seaborn as sns\n",
    "import matplotlib.pyplot as plt\n",
    "import scipy.stats as st\n",
    "from matplotlib.ticker import ScalarFormatter\n",
    "from matplotlib.ticker import FuncFormatter\n",
    "from scipy.stats import chi2_contingency\n",
    "from scipy.stats import ttest_ind"
   ]
  },
  {
   "cell_type": "markdown",
   "metadata": {},
   "source": [
    "# Step 2 - Importing data frames, analyzing and cleaning"
   ]
  },
  {
   "cell_type": "markdown",
   "metadata": {},
   "source": [
    "## 2.1.1 - Importing Clients Dataframe (df_final_demo)"
   ]
  },
  {
   "cell_type": "code",
   "execution_count": 4,
   "metadata": {},
   "outputs": [
    {
     "data": {
      "text/html": [
       "<div>\n",
       "<style scoped>\n",
       "    .dataframe tbody tr th:only-of-type {\n",
       "        vertical-align: middle;\n",
       "    }\n",
       "\n",
       "    .dataframe tbody tr th {\n",
       "        vertical-align: top;\n",
       "    }\n",
       "\n",
       "    .dataframe thead th {\n",
       "        text-align: right;\n",
       "    }\n",
       "</style>\n",
       "<table border=\"1\" class=\"dataframe\">\n",
       "  <thead>\n",
       "    <tr style=\"text-align: right;\">\n",
       "      <th></th>\n",
       "      <th>client_id</th>\n",
       "      <th>clnt_tenure_yr</th>\n",
       "      <th>clnt_tenure_mnth</th>\n",
       "      <th>clnt_age</th>\n",
       "      <th>gendr</th>\n",
       "      <th>num_accts</th>\n",
       "      <th>bal</th>\n",
       "      <th>calls_6_mnth</th>\n",
       "      <th>logons_6_mnth</th>\n",
       "    </tr>\n",
       "  </thead>\n",
       "  <tbody>\n",
       "    <tr>\n",
       "      <th>0</th>\n",
       "      <td>836976</td>\n",
       "      <td>6.0</td>\n",
       "      <td>73.0</td>\n",
       "      <td>60.5</td>\n",
       "      <td>U</td>\n",
       "      <td>2.0</td>\n",
       "      <td>45105.30</td>\n",
       "      <td>6.0</td>\n",
       "      <td>9.0</td>\n",
       "    </tr>\n",
       "    <tr>\n",
       "      <th>1</th>\n",
       "      <td>2304905</td>\n",
       "      <td>7.0</td>\n",
       "      <td>94.0</td>\n",
       "      <td>58.0</td>\n",
       "      <td>U</td>\n",
       "      <td>2.0</td>\n",
       "      <td>110860.30</td>\n",
       "      <td>6.0</td>\n",
       "      <td>9.0</td>\n",
       "    </tr>\n",
       "    <tr>\n",
       "      <th>2</th>\n",
       "      <td>1439522</td>\n",
       "      <td>5.0</td>\n",
       "      <td>64.0</td>\n",
       "      <td>32.0</td>\n",
       "      <td>U</td>\n",
       "      <td>2.0</td>\n",
       "      <td>52467.79</td>\n",
       "      <td>6.0</td>\n",
       "      <td>9.0</td>\n",
       "    </tr>\n",
       "    <tr>\n",
       "      <th>3</th>\n",
       "      <td>1562045</td>\n",
       "      <td>16.0</td>\n",
       "      <td>198.0</td>\n",
       "      <td>49.0</td>\n",
       "      <td>M</td>\n",
       "      <td>2.0</td>\n",
       "      <td>67454.65</td>\n",
       "      <td>3.0</td>\n",
       "      <td>6.0</td>\n",
       "    </tr>\n",
       "    <tr>\n",
       "      <th>4</th>\n",
       "      <td>5126305</td>\n",
       "      <td>12.0</td>\n",
       "      <td>145.0</td>\n",
       "      <td>33.0</td>\n",
       "      <td>F</td>\n",
       "      <td>2.0</td>\n",
       "      <td>103671.75</td>\n",
       "      <td>0.0</td>\n",
       "      <td>3.0</td>\n",
       "    </tr>\n",
       "    <tr>\n",
       "      <th>...</th>\n",
       "      <td>...</td>\n",
       "      <td>...</td>\n",
       "      <td>...</td>\n",
       "      <td>...</td>\n",
       "      <td>...</td>\n",
       "      <td>...</td>\n",
       "      <td>...</td>\n",
       "      <td>...</td>\n",
       "      <td>...</td>\n",
       "    </tr>\n",
       "    <tr>\n",
       "      <th>70604</th>\n",
       "      <td>7993686</td>\n",
       "      <td>4.0</td>\n",
       "      <td>56.0</td>\n",
       "      <td>38.5</td>\n",
       "      <td>U</td>\n",
       "      <td>3.0</td>\n",
       "      <td>1411062.68</td>\n",
       "      <td>5.0</td>\n",
       "      <td>5.0</td>\n",
       "    </tr>\n",
       "    <tr>\n",
       "      <th>70605</th>\n",
       "      <td>8981690</td>\n",
       "      <td>12.0</td>\n",
       "      <td>148.0</td>\n",
       "      <td>31.0</td>\n",
       "      <td>M</td>\n",
       "      <td>2.0</td>\n",
       "      <td>101867.07</td>\n",
       "      <td>6.0</td>\n",
       "      <td>6.0</td>\n",
       "    </tr>\n",
       "    <tr>\n",
       "      <th>70606</th>\n",
       "      <td>333913</td>\n",
       "      <td>16.0</td>\n",
       "      <td>198.0</td>\n",
       "      <td>61.5</td>\n",
       "      <td>F</td>\n",
       "      <td>2.0</td>\n",
       "      <td>40745.00</td>\n",
       "      <td>3.0</td>\n",
       "      <td>3.0</td>\n",
       "    </tr>\n",
       "    <tr>\n",
       "      <th>70607</th>\n",
       "      <td>1573142</td>\n",
       "      <td>21.0</td>\n",
       "      <td>255.0</td>\n",
       "      <td>68.0</td>\n",
       "      <td>M</td>\n",
       "      <td>3.0</td>\n",
       "      <td>475114.69</td>\n",
       "      <td>4.0</td>\n",
       "      <td>4.0</td>\n",
       "    </tr>\n",
       "    <tr>\n",
       "      <th>70608</th>\n",
       "      <td>5602139</td>\n",
       "      <td>21.0</td>\n",
       "      <td>254.0</td>\n",
       "      <td>59.5</td>\n",
       "      <td>F</td>\n",
       "      <td>3.0</td>\n",
       "      <td>157498.73</td>\n",
       "      <td>7.0</td>\n",
       "      <td>7.0</td>\n",
       "    </tr>\n",
       "  </tbody>\n",
       "</table>\n",
       "<p>70609 rows × 9 columns</p>\n",
       "</div>"
      ],
      "text/plain": [
       "       client_id  clnt_tenure_yr  clnt_tenure_mnth  clnt_age gendr  num_accts  \\\n",
       "0         836976             6.0              73.0      60.5     U        2.0   \n",
       "1        2304905             7.0              94.0      58.0     U        2.0   \n",
       "2        1439522             5.0              64.0      32.0     U        2.0   \n",
       "3        1562045            16.0             198.0      49.0     M        2.0   \n",
       "4        5126305            12.0             145.0      33.0     F        2.0   \n",
       "...          ...             ...               ...       ...   ...        ...   \n",
       "70604    7993686             4.0              56.0      38.5     U        3.0   \n",
       "70605    8981690            12.0             148.0      31.0     M        2.0   \n",
       "70606     333913            16.0             198.0      61.5     F        2.0   \n",
       "70607    1573142            21.0             255.0      68.0     M        3.0   \n",
       "70608    5602139            21.0             254.0      59.5     F        3.0   \n",
       "\n",
       "              bal  calls_6_mnth  logons_6_mnth  \n",
       "0        45105.30           6.0            9.0  \n",
       "1       110860.30           6.0            9.0  \n",
       "2        52467.79           6.0            9.0  \n",
       "3        67454.65           3.0            6.0  \n",
       "4       103671.75           0.0            3.0  \n",
       "...           ...           ...            ...  \n",
       "70604  1411062.68           5.0            5.0  \n",
       "70605   101867.07           6.0            6.0  \n",
       "70606    40745.00           3.0            3.0  \n",
       "70607   475114.69           4.0            4.0  \n",
       "70608   157498.73           7.0            7.0  \n",
       "\n",
       "[70609 rows x 9 columns]"
      ]
     },
     "execution_count": 4,
     "metadata": {},
     "output_type": "execute_result"
    }
   ],
   "source": [
    "# Import first data frame \n",
    "df_final_demo= pd.read_csv(\"data/df_final_demo.txt\")\n",
    "df_final_demo"
   ]
  },
  {
   "cell_type": "markdown",
   "metadata": {},
   "source": [
    "## 2.1.2 Exploring the Dataframe's columns"
   ]
  },
  {
   "cell_type": "markdown",
   "metadata": {},
   "source": [
    "*Display basic information about the dataset*"
   ]
  },
  {
   "cell_type": "code",
   "execution_count": 5,
   "metadata": {},
   "outputs": [
    {
     "name": "stdout",
     "output_type": "stream",
     "text": [
      "<class 'pandas.core.frame.DataFrame'>\n",
      "RangeIndex: 70609 entries, 0 to 70608\n",
      "Data columns (total 9 columns):\n",
      " #   Column            Non-Null Count  Dtype  \n",
      "---  ------            --------------  -----  \n",
      " 0   client_id         70609 non-null  int64  \n",
      " 1   clnt_tenure_yr    70595 non-null  float64\n",
      " 2   clnt_tenure_mnth  70595 non-null  float64\n",
      " 3   clnt_age          70594 non-null  float64\n",
      " 4   gendr             70595 non-null  object \n",
      " 5   num_accts         70595 non-null  float64\n",
      " 6   bal               70595 non-null  float64\n",
      " 7   calls_6_mnth      70595 non-null  float64\n",
      " 8   logons_6_mnth     70595 non-null  float64\n",
      "dtypes: float64(7), int64(1), object(1)\n",
      "memory usage: 4.8+ MB\n"
     ]
    },
    {
     "data": {
      "text/plain": [
       "None"
      ]
     },
     "metadata": {},
     "output_type": "display_data"
    }
   ],
   "source": [
    "display(df_final_demo.info())"
   ]
  },
  {
   "cell_type": "markdown",
   "metadata": {},
   "source": [
    "*Displaying information about **clnt_tenure_yr** (client tenure in years), as well as plotting a histogram to visualize the column's values*"
   ]
  },
  {
   "cell_type": "code",
   "execution_count": 6,
   "metadata": {},
   "outputs": [
    {
     "data": {
      "text/plain": [
       "clnt_tenure_yr\n",
       "6.0     7092\n",
       "5.0     6955\n",
       "7.0     4955\n",
       "4.0     4687\n",
       "15.0    4564\n",
       "8.0     4045\n",
       "14.0    3646\n",
       "12.0    3631\n",
       "13.0    3607\n",
       "9.0     3357\n",
       "11.0    2920\n",
       "10.0    2775\n",
       "16.0    2714\n",
       "21.0    2257\n",
       "20.0    1580\n",
       "22.0    1492\n",
       "17.0    1373\n",
       "23.0    1279\n",
       "18.0    1206\n",
       "19.0    1153\n",
       "24.0     846\n",
       "26.0     660\n",
       "27.0     632\n",
       "28.0     507\n",
       "25.0     484\n",
       "3.0      449\n",
       "29.0     309\n",
       "30.0     303\n",
       "33.0     206\n",
       "32.0     191\n",
       "34.0     175\n",
       "31.0     166\n",
       "35.0     102\n",
       "2.0       81\n",
       "36.0      36\n",
       "37.0      35\n",
       "38.0      33\n",
       "48.0      16\n",
       "39.0       9\n",
       "40.0       9\n",
       "55.0       9\n",
       "50.0       8\n",
       "47.0       6\n",
       "43.0       6\n",
       "42.0       6\n",
       "46.0       5\n",
       "51.0       5\n",
       "49.0       4\n",
       "44.0       3\n",
       "52.0       2\n",
       "54.0       1\n",
       "41.0       1\n",
       "45.0       1\n",
       "62.0       1\n",
       "Name: count, dtype: int64"
      ]
     },
     "execution_count": 6,
     "metadata": {},
     "output_type": "execute_result"
    }
   ],
   "source": [
    "\n",
    "df_final_demo['clnt_tenure_yr'].value_counts() "
   ]
  },
  {
   "cell_type": "code",
   "execution_count": 7,
   "metadata": {},
   "outputs": [
    {
     "data": {
      "text/plain": [
       "<Axes: xlabel='clnt_tenure_yr', ylabel='Count'>"
      ]
     },
     "execution_count": 7,
     "metadata": {},
     "output_type": "execute_result"
    },
    {
     "data": {
      "image/png": "[encoded data removed]",
      "text/plain": [
       "<Figure size 640x480 with 1 Axes>"
      ]
     },
     "metadata": {},
     "output_type": "display_data"
    }
   ],
   "source": [
    "#Plotting a histogram for the 'clnt_tenure_yr' column \n",
    "sns.histplot(df_final_demo['clnt_tenure_yr'], kde=True, bins=30, color=\"salmon\")"
   ]
  },
  {
   "cell_type": "markdown",
   "metadata": {},
   "source": [
    "*Displaying iformation about **clnt_age** (client age), as well as plotting a histogram to visualize the column's values*"
   ]
  },
  {
   "cell_type": "code",
   "execution_count": 8,
   "metadata": {},
   "outputs": [
    {
     "data": {
      "text/plain": [
       "clnt_age\n",
       "58.5    859\n",
       "55.5    830\n",
       "29.5    829\n",
       "28.5    827\n",
       "57.5    826\n",
       "       ... \n",
       "96.0      2\n",
       "14.0      2\n",
       "94.5      1\n",
       "95.5      1\n",
       "13.5      1\n",
       "Name: count, Length: 165, dtype: int64"
      ]
     },
     "execution_count": 8,
     "metadata": {},
     "output_type": "execute_result"
    }
   ],
   "source": [
    "# Analysis in the client data frame\n",
    "df_final_demo['clnt_age'].value_counts()"
   ]
  },
  {
   "cell_type": "code",
   "execution_count": 9,
   "metadata": {},
   "outputs": [
    {
     "data": {
      "text/plain": [
       "<Axes: xlabel='clnt_age', ylabel='Count'>"
      ]
     },
     "execution_count": 9,
     "metadata": {},
     "output_type": "execute_result"
    },
    {
     "data": {
      "image/png": "[encoded data removed]",
      "text/plain": [
       "<Figure size 640x480 with 1 Axes>"
      ]
     },
     "metadata": {},
     "output_type": "display_data"
    }
   ],
   "source": [
    "#Plotting a histogram for the 'clnt_age' column \n",
    "sns.histplot(df_final_demo['clnt_age'], kde=True, bins=30, color=\"salmon\")"
   ]
  },
  {
   "cell_type": "markdown",
   "metadata": {},
   "source": [
    "*Displaying iformation about **gendr** (gender), as well as creating a pie chart to visualize the column's values*"
   ]
  },
  {
   "cell_type": "code",
   "execution_count": 10,
   "metadata": {},
   "outputs": [
    {
     "data": {
      "text/plain": [
       "gendr\n",
       "F    22746\n",
       "M    23724\n",
       "U    24122\n",
       "X        3\n",
       "dtype: int64"
      ]
     },
     "execution_count": 10,
     "metadata": {},
     "output_type": "execute_result"
    }
   ],
   "source": [
    "gender= df_final_demo.groupby(\"gendr\")\n",
    "gender.size() "
   ]
  },
  {
   "cell_type": "code",
   "execution_count": 11,
   "metadata": {},
   "outputs": [
    {
     "data": {
      "text/plain": [
       "<Axes: ylabel='count'>"
      ]
     },
     "execution_count": 11,
     "metadata": {},
     "output_type": "execute_result"
    },
    {
     "data": {
      "image/png": "[encoded data removed]",
      "text/plain": [
       "<Figure size 640x480 with 1 Axes>"
      ]
     },
     "metadata": {},
     "output_type": "display_data"
    }
   ],
   "source": [
    "df_final_demo['gendr'].value_counts().plot.pie(autopct='%1.1f%%', startangle=90, colors=sns.color_palette(\"Set2\"))"
   ]
  },
  {
   "cell_type": "markdown",
   "metadata": {},
   "source": [
    "*Displaying information about **num_accounts** (number of accounts), as well as creating a pie chart and histogram to visualize the column's values*"
   ]
  },
  {
   "cell_type": "code",
   "execution_count": 12,
   "metadata": {},
   "outputs": [
    {
     "data": {
      "text/plain": [
       "num_accts\n",
       "2.0    55497\n",
       "3.0    12529\n",
       "4.0     2241\n",
       "5.0      284\n",
       "6.0       33\n",
       "7.0        8\n",
       "1.0        2\n",
       "8.0        1\n",
       "Name: count, dtype: int64"
      ]
     },
     "execution_count": 12,
     "metadata": {},
     "output_type": "execute_result"
    }
   ],
   "source": [
    "df_final_demo['num_accts'].value_counts()"
   ]
  },
  {
   "cell_type": "code",
   "execution_count": 13,
   "metadata": {},
   "outputs": [
    {
     "data": {
      "text/plain": [
       "<Axes: ylabel='count'>"
      ]
     },
     "execution_count": 13,
     "metadata": {},
     "output_type": "execute_result"
    },
    {
     "data": {
      "image/png": "[encoded data removed]",
      "text/plain": [
       "<Figure size 640x480 with 1 Axes>"
      ]
     },
     "metadata": {},
     "output_type": "display_data"
    }
   ],
   "source": [
    "df_final_demo['num_accts'].value_counts().plot.pie(autopct='%1.1f%%', startangle=90, colors=sns.color_palette(\"Set2\"))"
   ]
  },
  {
   "cell_type": "code",
   "execution_count": 14,
   "metadata": {},
   "outputs": [
    {
     "data": {
      "image/png": "[encoded data removed]",
      "text/plain": [
       "<Figure size 1000x600 with 1 Axes>"
      ]
     },
     "metadata": {},
     "output_type": "display_data"
    }
   ],
   "source": [
    "#Plotting a histogram for the 'num_accts' column \n",
    "# Assuming df_final_demo is your dataframe and 'num_accts' is your column\n",
    "num_accts_counts = df_final_demo['num_accts'].value_counts().sort_index()\n",
    "\n",
    "plt.figure(figsize=(10, 6))\n",
    "plt.bar(num_accts_counts.index, num_accts_counts.values, color='salmon')\n",
    "plt.xlabel('Number of Accounts')\n",
    "plt.ylabel('Frequency')\n",
    "plt.title('Bar Chart of Number of Accounts')\n",
    "plt.show()"
   ]
  },
  {
   "cell_type": "markdown",
   "metadata": {},
   "source": [
    "*Displaying information about **bal** (balance)*"
   ]
  },
  {
   "cell_type": "code",
   "execution_count": 15,
   "metadata": {},
   "outputs": [
    {
     "data": {
      "text/plain": [
       "bal\n",
       "31188.62     5\n",
       "29388.51     4\n",
       "31398.74     3\n",
       "29389.11     3\n",
       "29388.50     3\n",
       "            ..\n",
       "26088.34     1\n",
       "51203.28     1\n",
       "94714.11     1\n",
       "52086.48     1\n",
       "157498.73    1\n",
       "Name: count, Length: 70333, dtype: int64"
      ]
     },
     "execution_count": 15,
     "metadata": {},
     "output_type": "execute_result"
    }
   ],
   "source": [
    "df_final_demo['bal'].value_counts()"
   ]
  },
  {
   "cell_type": "code",
   "execution_count": 16,
   "metadata": {},
   "outputs": [
    {
     "data": {
      "text/plain": [
       "count    7.059500e+04\n",
       "mean     1.474452e+05\n",
       "std      3.015087e+05\n",
       "min      1.378942e+04\n",
       "25%      3.734683e+04\n",
       "50%      6.333290e+04\n",
       "75%      1.375449e+05\n",
       "max      1.632004e+07\n",
       "Name: bal, dtype: float64"
      ]
     },
     "execution_count": 16,
     "metadata": {},
     "output_type": "execute_result"
    }
   ],
   "source": [
    "df_final_demo.bal.describe()"
   ]
  },
  {
   "cell_type": "markdown",
   "metadata": {},
   "source": [
    "*Displaying information about **logons_6_mnth** (log on in the past 6 months), as well as creating a histogram to visualize the column's values*"
   ]
  },
  {
   "cell_type": "code",
   "execution_count": 17,
   "metadata": {},
   "outputs": [
    {
     "data": {
      "text/plain": [
       "logons_6_mnth\n",
       "9.0    12350\n",
       "3.0    10243\n",
       "4.0    10220\n",
       "7.0     9893\n",
       "5.0     9254\n",
       "6.0     7878\n",
       "8.0     4810\n",
       "2.0     3009\n",
       "1.0     2938\n",
       "Name: count, dtype: int64"
      ]
     },
     "execution_count": 17,
     "metadata": {},
     "output_type": "execute_result"
    }
   ],
   "source": [
    "df_final_demo['logons_6_mnth'].value_counts()"
   ]
  },
  {
   "cell_type": "code",
   "execution_count": 18,
   "metadata": {},
   "outputs": [
    {
     "data": {
      "text/plain": [
       "<Axes: xlabel='logons_6_mnth', ylabel='Count'>"
      ]
     },
     "execution_count": 18,
     "metadata": {},
     "output_type": "execute_result"
    },
    {
     "data": {
      "image/png": "[encoded data removed]",
      "text/plain": [
       "<Figure size 640x480 with 1 Axes>"
      ]
     },
     "metadata": {},
     "output_type": "display_data"
    }
   ],
   "source": [
    "#Plotting a histogram for the 'logons_6_mnth' column \n",
    "sns.histplot(df_final_demo['logons_6_mnth'], bins=30, color=\"salmon\")"
   ]
  },
  {
   "cell_type": "markdown",
   "metadata": {},
   "source": [
    "## 2.1.3 - Analyzing Client Demographics"
   ]
  },
  {
   "cell_type": "markdown",
   "metadata": {},
   "source": [
    "First, we will create a new column to visualize the total tenure in months."
   ]
  },
  {
   "cell_type": "code",
   "execution_count": 19,
   "metadata": {},
   "outputs": [],
   "source": [
    "# Calculate client tenure in months\n",
    "df_final_demo['total_tenure_months'] = df_final_demo['clnt_tenure_yr'] * 12 + df_final_demo['clnt_tenure_mnth']"
   ]
  },
  {
   "cell_type": "code",
   "execution_count": 20,
   "metadata": {},
   "outputs": [
    {
     "name": "stdout",
     "output_type": "stream",
     "text": [
      "   client_id  clnt_tenure_yr  clnt_tenure_mnth  total_tenure_months\n",
      "0     836976             6.0              73.0                145.0\n",
      "1    2304905             7.0              94.0                178.0\n",
      "2    1439522             5.0              64.0                124.0\n",
      "3    1562045            16.0             198.0                390.0\n",
      "4    5126305            12.0             145.0                289.0\n"
     ]
    }
   ],
   "source": [
    "# Display the first few rows to inspect the calculation\n",
    "print(df_final_demo[['client_id', 'clnt_tenure_yr', 'clnt_tenure_mnth', 'total_tenure_months']].head())"
   ]
  },
  {
   "cell_type": "markdown",
   "metadata": {},
   "source": [
    "Second, we will categorize the the clients based on their total tenure (in months). They can either be **New** or **Long Standing**"
   ]
  },
  {
   "cell_type": "code",
   "execution_count": 21,
   "metadata": {},
   "outputs": [],
   "source": [
    "# Categorize clients as new or long-standing\n",
    "df_final_demo['client_status'] = np.where(df_final_demo['total_tenure_months'] <= 24, 'New', 'Long-standing')"
   ]
  },
  {
   "cell_type": "code",
   "execution_count": 22,
   "metadata": {},
   "outputs": [
    {
     "name": "stdout",
     "output_type": "stream",
     "text": [
      "   client_id  client_status  total_tenure_months\n",
      "0     836976  Long-standing                145.0\n",
      "1    2304905  Long-standing                178.0\n",
      "2    1439522  Long-standing                124.0\n",
      "3    1562045  Long-standing                390.0\n",
      "4    5126305  Long-standing                289.0\n"
     ]
    }
   ],
   "source": [
    "# Display the first few rows of the dataframe to inspect the new columns\n",
    "print(df_final_demo[['client_id', 'client_status', 'total_tenure_months']].head())"
   ]
  },
  {
   "cell_type": "markdown",
   "metadata": {},
   "source": [
    "Third, it is important to know whether the clients are **young** or **old**. "
   ]
  },
  {
   "cell_type": "code",
   "execution_count": 23,
   "metadata": {},
   "outputs": [],
   "source": [
    "# Categorize clients as younger or older\n",
    "df_final_demo['age_group'] = np.where(df_final_demo['clnt_age'] <=df_final_demo['clnt_age'].median(), 'Younger', 'Older')"
   ]
  },
  {
   "cell_type": "code",
   "execution_count": 24,
   "metadata": {},
   "outputs": [
    {
     "name": "stdout",
     "output_type": "stream",
     "text": [
      "   client_id  clnt_age age_group\n",
      "0     836976      60.5     Older\n",
      "1    2304905      58.0     Older\n",
      "2    1439522      32.0   Younger\n",
      "3    1562045      49.0     Older\n",
      "4    5126305      33.0   Younger\n"
     ]
    }
   ],
   "source": [
    "print(df_final_demo[['client_id', 'clnt_age', 'age_group']].head())"
   ]
  },
  {
   "cell_type": "code",
   "execution_count": 25,
   "metadata": {},
   "outputs": [
    {
     "data": {
      "text/plain": [
       "age_group\n",
       "Younger    35527\n",
       "Older      35082\n",
       "Name: count, dtype: int64"
      ]
     },
     "execution_count": 25,
     "metadata": {},
     "output_type": "execute_result"
    }
   ],
   "source": [
    "df_final_demo[\"age_group\"].value_counts()"
   ]
  },
  {
   "cell_type": "markdown",
   "metadata": {},
   "source": [
    "## 2.1.3 - Identifying Primary Clients"
   ]
  },
  {
   "cell_type": "code",
   "execution_count": 26,
   "metadata": {},
   "outputs": [
    {
     "name": "stdout",
     "output_type": "stream",
     "text": [
      "Primary Clients by Tenure and Age Group:\n",
      "   client_status age_group  count\n",
      "0  Long-standing     Older  35082\n",
      "1  Long-standing   Younger  35527\n"
     ]
    }
   ],
   "source": [
    "# Primary clients' demographics\n",
    "primary_clients = df_final_demo.groupby(['client_status', 'age_group']).size().reset_index(name='count')\n",
    "print(\"Primary Clients by Tenure and Age Group:\")\n",
    "print(primary_clients)"
   ]
  },
  {
   "cell_type": "code",
   "execution_count": 27,
   "metadata": {},
   "outputs": [
    {
     "data": {
      "image/png": "[encoded data removed]",
      "text/plain": [
       "<Figure size 1000x600 with 1 Axes>"
      ]
     },
     "metadata": {},
     "output_type": "display_data"
    }
   ],
   "source": [
    "#MAKE A PIE CHART!!!!!! ASAP \n",
    "\n",
    "# Plotting\n",
    "plt.figure(figsize=(10, 6))\n",
    "sns.barplot(x='client_status', y='count', hue='age_group', data=primary_clients, palette='Set2')\n",
    "\n",
    "# Adding titles and labels\n",
    "plt.title('Distribution of Primary Clients by Tenure and Age Group')\n",
    "plt.xlabel('Client Status')\n",
    "plt.ylabel('Number of Clients')\n",
    "plt.legend(title='Age Group')\n",
    "plt.show()"
   ]
  },
  {
   "cell_type": "markdown",
   "metadata": {},
   "source": [
    "## 2.1.4 Cleaning df_final_demo "
   ]
  },
  {
   "cell_type": "markdown",
   "metadata": {},
   "source": [
    "First, we will take a look at which columns are completly empty (except for client_id, whic does not have any null values)."
   ]
  },
  {
   "cell_type": "code",
   "execution_count": 28,
   "metadata": {},
   "outputs": [
    {
     "data": {
      "text/html": [
       "<div>\n",
       "<style scoped>\n",
       "    .dataframe tbody tr th:only-of-type {\n",
       "        vertical-align: middle;\n",
       "    }\n",
       "\n",
       "    .dataframe tbody tr th {\n",
       "        vertical-align: top;\n",
       "    }\n",
       "\n",
       "    .dataframe thead th {\n",
       "        text-align: right;\n",
       "    }\n",
       "</style>\n",
       "<table border=\"1\" class=\"dataframe\">\n",
       "  <thead>\n",
       "    <tr style=\"text-align: right;\">\n",
       "      <th></th>\n",
       "      <th>client_id</th>\n",
       "      <th>clnt_tenure_yr</th>\n",
       "      <th>clnt_tenure_mnth</th>\n",
       "      <th>clnt_age</th>\n",
       "      <th>gendr</th>\n",
       "      <th>num_accts</th>\n",
       "      <th>bal</th>\n",
       "      <th>calls_6_mnth</th>\n",
       "      <th>logons_6_mnth</th>\n",
       "      <th>total_tenure_months</th>\n",
       "      <th>client_status</th>\n",
       "      <th>age_group</th>\n",
       "    </tr>\n",
       "  </thead>\n",
       "  <tbody>\n",
       "    <tr>\n",
       "      <th>4164</th>\n",
       "      <td>7402828</td>\n",
       "      <td>NaN</td>\n",
       "      <td>NaN</td>\n",
       "      <td>NaN</td>\n",
       "      <td>NaN</td>\n",
       "      <td>NaN</td>\n",
       "      <td>NaN</td>\n",
       "      <td>NaN</td>\n",
       "      <td>NaN</td>\n",
       "      <td>NaN</td>\n",
       "      <td>Long-standing</td>\n",
       "      <td>Older</td>\n",
       "    </tr>\n",
       "    <tr>\n",
       "      <th>8316</th>\n",
       "      <td>355337</td>\n",
       "      <td>NaN</td>\n",
       "      <td>NaN</td>\n",
       "      <td>NaN</td>\n",
       "      <td>NaN</td>\n",
       "      <td>NaN</td>\n",
       "      <td>NaN</td>\n",
       "      <td>NaN</td>\n",
       "      <td>NaN</td>\n",
       "      <td>NaN</td>\n",
       "      <td>Long-standing</td>\n",
       "      <td>Older</td>\n",
       "    </tr>\n",
       "    <tr>\n",
       "      <th>8677</th>\n",
       "      <td>8412164</td>\n",
       "      <td>NaN</td>\n",
       "      <td>NaN</td>\n",
       "      <td>NaN</td>\n",
       "      <td>NaN</td>\n",
       "      <td>NaN</td>\n",
       "      <td>NaN</td>\n",
       "      <td>NaN</td>\n",
       "      <td>NaN</td>\n",
       "      <td>NaN</td>\n",
       "      <td>Long-standing</td>\n",
       "      <td>Older</td>\n",
       "    </tr>\n",
       "    <tr>\n",
       "      <th>13444</th>\n",
       "      <td>2222915</td>\n",
       "      <td>NaN</td>\n",
       "      <td>NaN</td>\n",
       "      <td>NaN</td>\n",
       "      <td>NaN</td>\n",
       "      <td>NaN</td>\n",
       "      <td>NaN</td>\n",
       "      <td>NaN</td>\n",
       "      <td>NaN</td>\n",
       "      <td>NaN</td>\n",
       "      <td>Long-standing</td>\n",
       "      <td>Older</td>\n",
       "    </tr>\n",
       "    <tr>\n",
       "      <th>18066</th>\n",
       "      <td>4876926</td>\n",
       "      <td>NaN</td>\n",
       "      <td>NaN</td>\n",
       "      <td>NaN</td>\n",
       "      <td>NaN</td>\n",
       "      <td>NaN</td>\n",
       "      <td>NaN</td>\n",
       "      <td>NaN</td>\n",
       "      <td>NaN</td>\n",
       "      <td>NaN</td>\n",
       "      <td>Long-standing</td>\n",
       "      <td>Older</td>\n",
       "    </tr>\n",
       "    <tr>\n",
       "      <th>25961</th>\n",
       "      <td>5277910</td>\n",
       "      <td>NaN</td>\n",
       "      <td>NaN</td>\n",
       "      <td>NaN</td>\n",
       "      <td>NaN</td>\n",
       "      <td>NaN</td>\n",
       "      <td>NaN</td>\n",
       "      <td>NaN</td>\n",
       "      <td>NaN</td>\n",
       "      <td>NaN</td>\n",
       "      <td>Long-standing</td>\n",
       "      <td>Older</td>\n",
       "    </tr>\n",
       "    <tr>\n",
       "      <th>28432</th>\n",
       "      <td>7616759</td>\n",
       "      <td>NaN</td>\n",
       "      <td>NaN</td>\n",
       "      <td>NaN</td>\n",
       "      <td>NaN</td>\n",
       "      <td>NaN</td>\n",
       "      <td>NaN</td>\n",
       "      <td>NaN</td>\n",
       "      <td>NaN</td>\n",
       "      <td>NaN</td>\n",
       "      <td>Long-standing</td>\n",
       "      <td>Older</td>\n",
       "    </tr>\n",
       "    <tr>\n",
       "      <th>35323</th>\n",
       "      <td>8191345</td>\n",
       "      <td>NaN</td>\n",
       "      <td>NaN</td>\n",
       "      <td>NaN</td>\n",
       "      <td>NaN</td>\n",
       "      <td>NaN</td>\n",
       "      <td>NaN</td>\n",
       "      <td>NaN</td>\n",
       "      <td>NaN</td>\n",
       "      <td>NaN</td>\n",
       "      <td>Long-standing</td>\n",
       "      <td>Older</td>\n",
       "    </tr>\n",
       "    <tr>\n",
       "      <th>43518</th>\n",
       "      <td>1227228</td>\n",
       "      <td>NaN</td>\n",
       "      <td>NaN</td>\n",
       "      <td>NaN</td>\n",
       "      <td>NaN</td>\n",
       "      <td>NaN</td>\n",
       "      <td>NaN</td>\n",
       "      <td>NaN</td>\n",
       "      <td>NaN</td>\n",
       "      <td>NaN</td>\n",
       "      <td>Long-standing</td>\n",
       "      <td>Older</td>\n",
       "    </tr>\n",
       "    <tr>\n",
       "      <th>46076</th>\n",
       "      <td>8611797</td>\n",
       "      <td>NaN</td>\n",
       "      <td>NaN</td>\n",
       "      <td>NaN</td>\n",
       "      <td>NaN</td>\n",
       "      <td>NaN</td>\n",
       "      <td>NaN</td>\n",
       "      <td>NaN</td>\n",
       "      <td>NaN</td>\n",
       "      <td>NaN</td>\n",
       "      <td>Long-standing</td>\n",
       "      <td>Older</td>\n",
       "    </tr>\n",
       "    <tr>\n",
       "      <th>47189</th>\n",
       "      <td>5144725</td>\n",
       "      <td>NaN</td>\n",
       "      <td>NaN</td>\n",
       "      <td>NaN</td>\n",
       "      <td>NaN</td>\n",
       "      <td>NaN</td>\n",
       "      <td>NaN</td>\n",
       "      <td>NaN</td>\n",
       "      <td>NaN</td>\n",
       "      <td>NaN</td>\n",
       "      <td>Long-standing</td>\n",
       "      <td>Older</td>\n",
       "    </tr>\n",
       "    <tr>\n",
       "      <th>49846</th>\n",
       "      <td>1037867</td>\n",
       "      <td>NaN</td>\n",
       "      <td>NaN</td>\n",
       "      <td>NaN</td>\n",
       "      <td>NaN</td>\n",
       "      <td>NaN</td>\n",
       "      <td>NaN</td>\n",
       "      <td>NaN</td>\n",
       "      <td>NaN</td>\n",
       "      <td>NaN</td>\n",
       "      <td>Long-standing</td>\n",
       "      <td>Older</td>\n",
       "    </tr>\n",
       "    <tr>\n",
       "      <th>63701</th>\n",
       "      <td>1618749</td>\n",
       "      <td>NaN</td>\n",
       "      <td>NaN</td>\n",
       "      <td>NaN</td>\n",
       "      <td>NaN</td>\n",
       "      <td>NaN</td>\n",
       "      <td>NaN</td>\n",
       "      <td>NaN</td>\n",
       "      <td>NaN</td>\n",
       "      <td>NaN</td>\n",
       "      <td>Long-standing</td>\n",
       "      <td>Older</td>\n",
       "    </tr>\n",
       "    <tr>\n",
       "      <th>66219</th>\n",
       "      <td>6021001</td>\n",
       "      <td>NaN</td>\n",
       "      <td>NaN</td>\n",
       "      <td>NaN</td>\n",
       "      <td>NaN</td>\n",
       "      <td>NaN</td>\n",
       "      <td>NaN</td>\n",
       "      <td>NaN</td>\n",
       "      <td>NaN</td>\n",
       "      <td>NaN</td>\n",
       "      <td>Long-standing</td>\n",
       "      <td>Older</td>\n",
       "    </tr>\n",
       "  </tbody>\n",
       "</table>\n",
       "</div>"
      ],
      "text/plain": [
       "       client_id  clnt_tenure_yr  clnt_tenure_mnth  clnt_age gendr  num_accts  \\\n",
       "4164     7402828             NaN               NaN       NaN   NaN        NaN   \n",
       "8316      355337             NaN               NaN       NaN   NaN        NaN   \n",
       "8677     8412164             NaN               NaN       NaN   NaN        NaN   \n",
       "13444    2222915             NaN               NaN       NaN   NaN        NaN   \n",
       "18066    4876926             NaN               NaN       NaN   NaN        NaN   \n",
       "25961    5277910             NaN               NaN       NaN   NaN        NaN   \n",
       "28432    7616759             NaN               NaN       NaN   NaN        NaN   \n",
       "35323    8191345             NaN               NaN       NaN   NaN        NaN   \n",
       "43518    1227228             NaN               NaN       NaN   NaN        NaN   \n",
       "46076    8611797             NaN               NaN       NaN   NaN        NaN   \n",
       "47189    5144725             NaN               NaN       NaN   NaN        NaN   \n",
       "49846    1037867             NaN               NaN       NaN   NaN        NaN   \n",
       "63701    1618749             NaN               NaN       NaN   NaN        NaN   \n",
       "66219    6021001             NaN               NaN       NaN   NaN        NaN   \n",
       "\n",
       "       bal  calls_6_mnth  logons_6_mnth  total_tenure_months  client_status  \\\n",
       "4164   NaN           NaN            NaN                  NaN  Long-standing   \n",
       "8316   NaN           NaN            NaN                  NaN  Long-standing   \n",
       "8677   NaN           NaN            NaN                  NaN  Long-standing   \n",
       "13444  NaN           NaN            NaN                  NaN  Long-standing   \n",
       "18066  NaN           NaN            NaN                  NaN  Long-standing   \n",
       "25961  NaN           NaN            NaN                  NaN  Long-standing   \n",
       "28432  NaN           NaN            NaN                  NaN  Long-standing   \n",
       "35323  NaN           NaN            NaN                  NaN  Long-standing   \n",
       "43518  NaN           NaN            NaN                  NaN  Long-standing   \n",
       "46076  NaN           NaN            NaN                  NaN  Long-standing   \n",
       "47189  NaN           NaN            NaN                  NaN  Long-standing   \n",
       "49846  NaN           NaN            NaN                  NaN  Long-standing   \n",
       "63701  NaN           NaN            NaN                  NaN  Long-standing   \n",
       "66219  NaN           NaN            NaN                  NaN  Long-standing   \n",
       "\n",
       "      age_group  \n",
       "4164      Older  \n",
       "8316      Older  \n",
       "8677      Older  \n",
       "13444     Older  \n",
       "18066     Older  \n",
       "25961     Older  \n",
       "28432     Older  \n",
       "35323     Older  \n",
       "43518     Older  \n",
       "46076     Older  \n",
       "47189     Older  \n",
       "49846     Older  \n",
       "63701     Older  \n",
       "66219     Older  "
      ]
     },
     "execution_count": 28,
     "metadata": {},
     "output_type": "execute_result"
    }
   ],
   "source": [
    "null_rows = df_final_demo[df_final_demo[\"bal\"].isnull()]\n",
    "null_rows"
   ]
  },
  {
   "cell_type": "markdown",
   "metadata": {},
   "source": [
    "Secondly, we will remove all these rows."
   ]
  },
  {
   "cell_type": "code",
   "execution_count": 29,
   "metadata": {},
   "outputs": [],
   "source": [
    "df_final_demo.dropna(subset = \"bal\", inplace=True) "
   ]
  },
  {
   "cell_type": "code",
   "execution_count": 30,
   "metadata": {},
   "outputs": [],
   "source": [
    "df_final_demo.dropna(subset = \"clnt_age\", inplace=True)"
   ]
  },
  {
   "cell_type": "markdown",
   "metadata": {},
   "source": [
    "Finally, we will take a look a the types of each column and make adjustments if needed."
   ]
  },
  {
   "cell_type": "code",
   "execution_count": 31,
   "metadata": {},
   "outputs": [
    {
     "data": {
      "text/plain": [
       "client_id                int64\n",
       "clnt_tenure_yr         float64\n",
       "clnt_tenure_mnth       float64\n",
       "clnt_age               float64\n",
       "gendr                   object\n",
       "num_accts              float64\n",
       "bal                    float64\n",
       "calls_6_mnth           float64\n",
       "logons_6_mnth          float64\n",
       "total_tenure_months    float64\n",
       "client_status           object\n",
       "age_group               object\n",
       "dtype: object"
      ]
     },
     "execution_count": 31,
     "metadata": {},
     "output_type": "execute_result"
    }
   ],
   "source": [
    "df_final_demo.dtypes # Client id should be an string because it is categorical data"
   ]
  },
  {
   "cell_type": "markdown",
   "metadata": {},
   "source": [
    "## 2.2.1 Importing DataFrame Part 1 which provides information about the visits to Vanguard"
   ]
  },
  {
   "cell_type": "code",
   "execution_count": 32,
   "metadata": {},
   "outputs": [
    {
     "data": {
      "text/html": [
       "<div>\n",
       "<style scoped>\n",
       "    .dataframe tbody tr th:only-of-type {\n",
       "        vertical-align: middle;\n",
       "    }\n",
       "\n",
       "    .dataframe tbody tr th {\n",
       "        vertical-align: top;\n",
       "    }\n",
       "\n",
       "    .dataframe thead th {\n",
       "        text-align: right;\n",
       "    }\n",
       "</style>\n",
       "<table border=\"1\" class=\"dataframe\">\n",
       "  <thead>\n",
       "    <tr style=\"text-align: right;\">\n",
       "      <th></th>\n",
       "      <th>client_id</th>\n",
       "      <th>visitor_id</th>\n",
       "      <th>visit_id</th>\n",
       "      <th>process_step</th>\n",
       "      <th>date_time</th>\n",
       "    </tr>\n",
       "  </thead>\n",
       "  <tbody>\n",
       "    <tr>\n",
       "      <th>0</th>\n",
       "      <td>9988021</td>\n",
       "      <td>580560515_7732621733</td>\n",
       "      <td>781255054_21935453173_531117</td>\n",
       "      <td>step_3</td>\n",
       "      <td>2017-04-17 15:27:07</td>\n",
       "    </tr>\n",
       "    <tr>\n",
       "      <th>1</th>\n",
       "      <td>9988021</td>\n",
       "      <td>580560515_7732621733</td>\n",
       "      <td>781255054_21935453173_531117</td>\n",
       "      <td>step_2</td>\n",
       "      <td>2017-04-17 15:26:51</td>\n",
       "    </tr>\n",
       "    <tr>\n",
       "      <th>2</th>\n",
       "      <td>9988021</td>\n",
       "      <td>580560515_7732621733</td>\n",
       "      <td>781255054_21935453173_531117</td>\n",
       "      <td>step_3</td>\n",
       "      <td>2017-04-17 15:19:22</td>\n",
       "    </tr>\n",
       "    <tr>\n",
       "      <th>3</th>\n",
       "      <td>9988021</td>\n",
       "      <td>580560515_7732621733</td>\n",
       "      <td>781255054_21935453173_531117</td>\n",
       "      <td>step_2</td>\n",
       "      <td>2017-04-17 15:19:13</td>\n",
       "    </tr>\n",
       "    <tr>\n",
       "      <th>4</th>\n",
       "      <td>9988021</td>\n",
       "      <td>580560515_7732621733</td>\n",
       "      <td>781255054_21935453173_531117</td>\n",
       "      <td>step_3</td>\n",
       "      <td>2017-04-17 15:18:04</td>\n",
       "    </tr>\n",
       "    <tr>\n",
       "      <th>...</th>\n",
       "      <td>...</td>\n",
       "      <td>...</td>\n",
       "      <td>...</td>\n",
       "      <td>...</td>\n",
       "      <td>...</td>\n",
       "    </tr>\n",
       "    <tr>\n",
       "      <th>343136</th>\n",
       "      <td>2443347</td>\n",
       "      <td>465784886_73090545671</td>\n",
       "      <td>136329900_10529659391_316129</td>\n",
       "      <td>confirm</td>\n",
       "      <td>2017-03-31 15:15:46</td>\n",
       "    </tr>\n",
       "    <tr>\n",
       "      <th>343137</th>\n",
       "      <td>2443347</td>\n",
       "      <td>465784886_73090545671</td>\n",
       "      <td>136329900_10529659391_316129</td>\n",
       "      <td>step_3</td>\n",
       "      <td>2017-03-31 15:14:53</td>\n",
       "    </tr>\n",
       "    <tr>\n",
       "      <th>343138</th>\n",
       "      <td>2443347</td>\n",
       "      <td>465784886_73090545671</td>\n",
       "      <td>136329900_10529659391_316129</td>\n",
       "      <td>step_2</td>\n",
       "      <td>2017-03-31 15:12:08</td>\n",
       "    </tr>\n",
       "    <tr>\n",
       "      <th>343139</th>\n",
       "      <td>2443347</td>\n",
       "      <td>465784886_73090545671</td>\n",
       "      <td>136329900_10529659391_316129</td>\n",
       "      <td>step_1</td>\n",
       "      <td>2017-03-31 15:11:37</td>\n",
       "    </tr>\n",
       "    <tr>\n",
       "      <th>343140</th>\n",
       "      <td>2443347</td>\n",
       "      <td>465784886_73090545671</td>\n",
       "      <td>136329900_10529659391_316129</td>\n",
       "      <td>start</td>\n",
       "      <td>2017-03-31 15:10:47</td>\n",
       "    </tr>\n",
       "  </tbody>\n",
       "</table>\n",
       "<p>343141 rows × 5 columns</p>\n",
       "</div>"
      ],
      "text/plain": [
       "        client_id             visitor_id                      visit_id  \\\n",
       "0         9988021   580560515_7732621733  781255054_21935453173_531117   \n",
       "1         9988021   580560515_7732621733  781255054_21935453173_531117   \n",
       "2         9988021   580560515_7732621733  781255054_21935453173_531117   \n",
       "3         9988021   580560515_7732621733  781255054_21935453173_531117   \n",
       "4         9988021   580560515_7732621733  781255054_21935453173_531117   \n",
       "...           ...                    ...                           ...   \n",
       "343136    2443347  465784886_73090545671  136329900_10529659391_316129   \n",
       "343137    2443347  465784886_73090545671  136329900_10529659391_316129   \n",
       "343138    2443347  465784886_73090545671  136329900_10529659391_316129   \n",
       "343139    2443347  465784886_73090545671  136329900_10529659391_316129   \n",
       "343140    2443347  465784886_73090545671  136329900_10529659391_316129   \n",
       "\n",
       "       process_step            date_time  \n",
       "0            step_3  2017-04-17 15:27:07  \n",
       "1            step_2  2017-04-17 15:26:51  \n",
       "2            step_3  2017-04-17 15:19:22  \n",
       "3            step_2  2017-04-17 15:19:13  \n",
       "4            step_3  2017-04-17 15:18:04  \n",
       "...             ...                  ...  \n",
       "343136      confirm  2017-03-31 15:15:46  \n",
       "343137       step_3  2017-03-31 15:14:53  \n",
       "343138       step_2  2017-03-31 15:12:08  \n",
       "343139       step_1  2017-03-31 15:11:37  \n",
       "343140        start  2017-03-31 15:10:47  \n",
       "\n",
       "[343141 rows x 5 columns]"
      ]
     },
     "execution_count": 32,
     "metadata": {},
     "output_type": "execute_result"
    }
   ],
   "source": [
    "df_pt1 = pd.read_csv(\"data/df_final_web_data_pt_1.txt\")\n",
    "df_pt1"
   ]
  },
  {
   "cell_type": "markdown",
   "metadata": {},
   "source": [
    "There aren't any null values, so we do not have to clean anything."
   ]
  },
  {
   "cell_type": "code",
   "execution_count": 33,
   "metadata": {},
   "outputs": [
    {
     "data": {
      "text/plain": [
       "client_id       0\n",
       "visitor_id      0\n",
       "visit_id        0\n",
       "process_step    0\n",
       "date_time       0\n",
       "dtype: int64"
      ]
     },
     "execution_count": 33,
     "metadata": {},
     "output_type": "execute_result"
    }
   ],
   "source": [
    "df_pt1.isna().sum()"
   ]
  },
  {
   "cell_type": "markdown",
   "metadata": {},
   "source": [
    "## 2.3.1 - Importing DataFrame Part 2 "
   ]
  },
  {
   "cell_type": "code",
   "execution_count": 34,
   "metadata": {},
   "outputs": [
    {
     "data": {
      "text/html": [
       "<div>\n",
       "<style scoped>\n",
       "    .dataframe tbody tr th:only-of-type {\n",
       "        vertical-align: middle;\n",
       "    }\n",
       "\n",
       "    .dataframe tbody tr th {\n",
       "        vertical-align: top;\n",
       "    }\n",
       "\n",
       "    .dataframe thead th {\n",
       "        text-align: right;\n",
       "    }\n",
       "</style>\n",
       "<table border=\"1\" class=\"dataframe\">\n",
       "  <thead>\n",
       "    <tr style=\"text-align: right;\">\n",
       "      <th></th>\n",
       "      <th>client_id</th>\n",
       "      <th>visitor_id</th>\n",
       "      <th>visit_id</th>\n",
       "      <th>process_step</th>\n",
       "      <th>date_time</th>\n",
       "    </tr>\n",
       "  </thead>\n",
       "  <tbody>\n",
       "    <tr>\n",
       "      <th>0</th>\n",
       "      <td>763412</td>\n",
       "      <td>601952081_10457207388</td>\n",
       "      <td>397475557_40440946728_419634</td>\n",
       "      <td>confirm</td>\n",
       "      <td>2017-06-06 08:56:00</td>\n",
       "    </tr>\n",
       "    <tr>\n",
       "      <th>1</th>\n",
       "      <td>6019349</td>\n",
       "      <td>442094451_91531546617</td>\n",
       "      <td>154620534_35331068705_522317</td>\n",
       "      <td>confirm</td>\n",
       "      <td>2017-06-01 11:59:27</td>\n",
       "    </tr>\n",
       "    <tr>\n",
       "      <th>2</th>\n",
       "      <td>6019349</td>\n",
       "      <td>442094451_91531546617</td>\n",
       "      <td>154620534_35331068705_522317</td>\n",
       "      <td>step_3</td>\n",
       "      <td>2017-06-01 11:58:48</td>\n",
       "    </tr>\n",
       "    <tr>\n",
       "      <th>3</th>\n",
       "      <td>6019349</td>\n",
       "      <td>442094451_91531546617</td>\n",
       "      <td>154620534_35331068705_522317</td>\n",
       "      <td>step_2</td>\n",
       "      <td>2017-06-01 11:58:08</td>\n",
       "    </tr>\n",
       "    <tr>\n",
       "      <th>4</th>\n",
       "      <td>6019349</td>\n",
       "      <td>442094451_91531546617</td>\n",
       "      <td>154620534_35331068705_522317</td>\n",
       "      <td>step_1</td>\n",
       "      <td>2017-06-01 11:57:58</td>\n",
       "    </tr>\n",
       "    <tr>\n",
       "      <th>...</th>\n",
       "      <td>...</td>\n",
       "      <td>...</td>\n",
       "      <td>...</td>\n",
       "      <td>...</td>\n",
       "      <td>...</td>\n",
       "    </tr>\n",
       "    <tr>\n",
       "      <th>412259</th>\n",
       "      <td>9668240</td>\n",
       "      <td>388766751_9038881013</td>\n",
       "      <td>922267647_3096648104_968866</td>\n",
       "      <td>start</td>\n",
       "      <td>2017-05-24 18:46:10</td>\n",
       "    </tr>\n",
       "    <tr>\n",
       "      <th>412260</th>\n",
       "      <td>9668240</td>\n",
       "      <td>388766751_9038881013</td>\n",
       "      <td>922267647_3096648104_968866</td>\n",
       "      <td>start</td>\n",
       "      <td>2017-05-24 18:45:29</td>\n",
       "    </tr>\n",
       "    <tr>\n",
       "      <th>412261</th>\n",
       "      <td>9668240</td>\n",
       "      <td>388766751_9038881013</td>\n",
       "      <td>922267647_3096648104_968866</td>\n",
       "      <td>step_1</td>\n",
       "      <td>2017-05-24 18:44:51</td>\n",
       "    </tr>\n",
       "    <tr>\n",
       "      <th>412262</th>\n",
       "      <td>9668240</td>\n",
       "      <td>388766751_9038881013</td>\n",
       "      <td>922267647_3096648104_968866</td>\n",
       "      <td>start</td>\n",
       "      <td>2017-05-24 18:44:34</td>\n",
       "    </tr>\n",
       "    <tr>\n",
       "      <th>412263</th>\n",
       "      <td>674799</td>\n",
       "      <td>947159805_81558194550</td>\n",
       "      <td>86152093_47511127657_716022</td>\n",
       "      <td>start</td>\n",
       "      <td>2017-06-03 12:17:09</td>\n",
       "    </tr>\n",
       "  </tbody>\n",
       "</table>\n",
       "<p>412264 rows × 5 columns</p>\n",
       "</div>"
      ],
      "text/plain": [
       "        client_id             visitor_id                      visit_id  \\\n",
       "0          763412  601952081_10457207388  397475557_40440946728_419634   \n",
       "1         6019349  442094451_91531546617  154620534_35331068705_522317   \n",
       "2         6019349  442094451_91531546617  154620534_35331068705_522317   \n",
       "3         6019349  442094451_91531546617  154620534_35331068705_522317   \n",
       "4         6019349  442094451_91531546617  154620534_35331068705_522317   \n",
       "...           ...                    ...                           ...   \n",
       "412259    9668240   388766751_9038881013   922267647_3096648104_968866   \n",
       "412260    9668240   388766751_9038881013   922267647_3096648104_968866   \n",
       "412261    9668240   388766751_9038881013   922267647_3096648104_968866   \n",
       "412262    9668240   388766751_9038881013   922267647_3096648104_968866   \n",
       "412263     674799  947159805_81558194550   86152093_47511127657_716022   \n",
       "\n",
       "       process_step            date_time  \n",
       "0           confirm  2017-06-06 08:56:00  \n",
       "1           confirm  2017-06-01 11:59:27  \n",
       "2            step_3  2017-06-01 11:58:48  \n",
       "3            step_2  2017-06-01 11:58:08  \n",
       "4            step_1  2017-06-01 11:57:58  \n",
       "...             ...                  ...  \n",
       "412259        start  2017-05-24 18:46:10  \n",
       "412260        start  2017-05-24 18:45:29  \n",
       "412261       step_1  2017-05-24 18:44:51  \n",
       "412262        start  2017-05-24 18:44:34  \n",
       "412263        start  2017-06-03 12:17:09  \n",
       "\n",
       "[412264 rows x 5 columns]"
      ]
     },
     "execution_count": 34,
     "metadata": {},
     "output_type": "execute_result"
    }
   ],
   "source": [
    "df_pt2 = pd.read_csv(\"data/df_final_web_data_pt_2.txt\")\n",
    "df_pt2"
   ]
  },
  {
   "cell_type": "code",
   "execution_count": 35,
   "metadata": {},
   "outputs": [
    {
     "data": {
      "text/plain": [
       "client_id       0\n",
       "visitor_id      0\n",
       "visit_id        0\n",
       "process_step    0\n",
       "date_time       0\n",
       "dtype: int64"
      ]
     },
     "execution_count": 35,
     "metadata": {},
     "output_type": "execute_result"
    }
   ],
   "source": [
    "df_pt2.isna().sum()"
   ]
  },
  {
   "cell_type": "markdown",
   "metadata": {},
   "source": [
    "## 2.3.2 - Merging the Twin Dataframes"
   ]
  },
  {
   "cell_type": "markdown",
   "metadata": {},
   "source": [
    "DataFrame Part 2 is an extension to DataFrame Part 1; therefore, they should be merged."
   ]
  },
  {
   "cell_type": "code",
   "execution_count": 36,
   "metadata": {},
   "outputs": [
    {
     "data": {
      "text/html": [
       "<div>\n",
       "<style scoped>\n",
       "    .dataframe tbody tr th:only-of-type {\n",
       "        vertical-align: middle;\n",
       "    }\n",
       "\n",
       "    .dataframe tbody tr th {\n",
       "        vertical-align: top;\n",
       "    }\n",
       "\n",
       "    .dataframe thead th {\n",
       "        text-align: right;\n",
       "    }\n",
       "</style>\n",
       "<table border=\"1\" class=\"dataframe\">\n",
       "  <thead>\n",
       "    <tr style=\"text-align: right;\">\n",
       "      <th></th>\n",
       "      <th>client_id</th>\n",
       "      <th>visitor_id</th>\n",
       "      <th>visit_id</th>\n",
       "      <th>process_step</th>\n",
       "      <th>date_time</th>\n",
       "    </tr>\n",
       "  </thead>\n",
       "  <tbody>\n",
       "    <tr>\n",
       "      <th>285512</th>\n",
       "      <td>169</td>\n",
       "      <td>201385055_71273495308</td>\n",
       "      <td>749567106_99161211863_557568</td>\n",
       "      <td>step_3</td>\n",
       "      <td>2017-04-12 20:22:05</td>\n",
       "    </tr>\n",
       "    <tr>\n",
       "      <th>285511</th>\n",
       "      <td>169</td>\n",
       "      <td>201385055_71273495308</td>\n",
       "      <td>749567106_99161211863_557568</td>\n",
       "      <td>confirm</td>\n",
       "      <td>2017-04-12 20:23:09</td>\n",
       "    </tr>\n",
       "    <tr>\n",
       "      <th>285513</th>\n",
       "      <td>169</td>\n",
       "      <td>201385055_71273495308</td>\n",
       "      <td>749567106_99161211863_557568</td>\n",
       "      <td>step_2</td>\n",
       "      <td>2017-04-12 20:20:31</td>\n",
       "    </tr>\n",
       "    <tr>\n",
       "      <th>285514</th>\n",
       "      <td>169</td>\n",
       "      <td>201385055_71273495308</td>\n",
       "      <td>749567106_99161211863_557568</td>\n",
       "      <td>step_1</td>\n",
       "      <td>2017-04-12 20:19:45</td>\n",
       "    </tr>\n",
       "    <tr>\n",
       "      <th>285515</th>\n",
       "      <td>169</td>\n",
       "      <td>201385055_71273495308</td>\n",
       "      <td>749567106_99161211863_557568</td>\n",
       "      <td>start</td>\n",
       "      <td>2017-04-12 20:19:36</td>\n",
       "    </tr>\n",
       "    <tr>\n",
       "      <th>...</th>\n",
       "      <td>...</td>\n",
       "      <td>...</td>\n",
       "      <td>...</td>\n",
       "      <td>...</td>\n",
       "      <td>...</td>\n",
       "    </tr>\n",
       "    <tr>\n",
       "      <th>305392</th>\n",
       "      <td>9999875</td>\n",
       "      <td>738878760_1556639849</td>\n",
       "      <td>931268933_219402947_599432</td>\n",
       "      <td>step_1</td>\n",
       "      <td>2017-06-01 22:40:08</td>\n",
       "    </tr>\n",
       "    <tr>\n",
       "      <th>305388</th>\n",
       "      <td>9999875</td>\n",
       "      <td>738878760_1556639849</td>\n",
       "      <td>931268933_219402947_599432</td>\n",
       "      <td>confirm</td>\n",
       "      <td>2017-06-01 22:48:39</td>\n",
       "    </tr>\n",
       "    <tr>\n",
       "      <th>305389</th>\n",
       "      <td>9999875</td>\n",
       "      <td>738878760_1556639849</td>\n",
       "      <td>931268933_219402947_599432</td>\n",
       "      <td>step_3</td>\n",
       "      <td>2017-06-01 22:44:58</td>\n",
       "    </tr>\n",
       "    <tr>\n",
       "      <th>305391</th>\n",
       "      <td>9999875</td>\n",
       "      <td>738878760_1556639849</td>\n",
       "      <td>931268933_219402947_599432</td>\n",
       "      <td>step_1</td>\n",
       "      <td>2017-06-01 22:41:28</td>\n",
       "    </tr>\n",
       "    <tr>\n",
       "      <th>305390</th>\n",
       "      <td>9999875</td>\n",
       "      <td>738878760_1556639849</td>\n",
       "      <td>931268933_219402947_599432</td>\n",
       "      <td>step_2</td>\n",
       "      <td>2017-06-01 22:41:47</td>\n",
       "    </tr>\n",
       "  </tbody>\n",
       "</table>\n",
       "<p>755405 rows × 5 columns</p>\n",
       "</div>"
      ],
      "text/plain": [
       "        client_id             visitor_id                      visit_id  \\\n",
       "285512        169  201385055_71273495308  749567106_99161211863_557568   \n",
       "285511        169  201385055_71273495308  749567106_99161211863_557568   \n",
       "285513        169  201385055_71273495308  749567106_99161211863_557568   \n",
       "285514        169  201385055_71273495308  749567106_99161211863_557568   \n",
       "285515        169  201385055_71273495308  749567106_99161211863_557568   \n",
       "...           ...                    ...                           ...   \n",
       "305392    9999875   738878760_1556639849    931268933_219402947_599432   \n",
       "305388    9999875   738878760_1556639849    931268933_219402947_599432   \n",
       "305389    9999875   738878760_1556639849    931268933_219402947_599432   \n",
       "305391    9999875   738878760_1556639849    931268933_219402947_599432   \n",
       "305390    9999875   738878760_1556639849    931268933_219402947_599432   \n",
       "\n",
       "       process_step            date_time  \n",
       "285512       step_3  2017-04-12 20:22:05  \n",
       "285511      confirm  2017-04-12 20:23:09  \n",
       "285513       step_2  2017-04-12 20:20:31  \n",
       "285514       step_1  2017-04-12 20:19:45  \n",
       "285515        start  2017-04-12 20:19:36  \n",
       "...             ...                  ...  \n",
       "305392       step_1  2017-06-01 22:40:08  \n",
       "305388      confirm  2017-06-01 22:48:39  \n",
       "305389       step_3  2017-06-01 22:44:58  \n",
       "305391       step_1  2017-06-01 22:41:28  \n",
       "305390       step_2  2017-06-01 22:41:47  \n",
       "\n",
       "[755405 rows x 5 columns]"
      ]
     },
     "execution_count": 36,
     "metadata": {},
     "output_type": "execute_result"
    }
   ],
   "source": [
    "\n",
    "df = pd.concat([df_pt1, df_pt2], axis = 0)\n",
    "df.sort_values(by=\"client_id\", ascending=True, inplace=True)\n",
    "df"
   ]
  },
  {
   "cell_type": "markdown",
   "metadata": {},
   "source": [
    "## 2.4.1 - Importing Data Frame about the different groups of clients (Test/Control)"
   ]
  },
  {
   "cell_type": "code",
   "execution_count": 37,
   "metadata": {},
   "outputs": [
    {
     "data": {
      "text/html": [
       "<div>\n",
       "<style scoped>\n",
       "    .dataframe tbody tr th:only-of-type {\n",
       "        vertical-align: middle;\n",
       "    }\n",
       "\n",
       "    .dataframe tbody tr th {\n",
       "        vertical-align: top;\n",
       "    }\n",
       "\n",
       "    .dataframe thead th {\n",
       "        text-align: right;\n",
       "    }\n",
       "</style>\n",
       "<table border=\"1\" class=\"dataframe\">\n",
       "  <thead>\n",
       "    <tr style=\"text-align: right;\">\n",
       "      <th></th>\n",
       "      <th>client_id</th>\n",
       "      <th>Variation</th>\n",
       "    </tr>\n",
       "  </thead>\n",
       "  <tbody>\n",
       "    <tr>\n",
       "      <th>0</th>\n",
       "      <td>9988021</td>\n",
       "      <td>Test</td>\n",
       "    </tr>\n",
       "    <tr>\n",
       "      <th>1</th>\n",
       "      <td>8320017</td>\n",
       "      <td>Test</td>\n",
       "    </tr>\n",
       "    <tr>\n",
       "      <th>2</th>\n",
       "      <td>4033851</td>\n",
       "      <td>Control</td>\n",
       "    </tr>\n",
       "    <tr>\n",
       "      <th>3</th>\n",
       "      <td>1982004</td>\n",
       "      <td>Test</td>\n",
       "    </tr>\n",
       "    <tr>\n",
       "      <th>4</th>\n",
       "      <td>9294070</td>\n",
       "      <td>Control</td>\n",
       "    </tr>\n",
       "    <tr>\n",
       "      <th>...</th>\n",
       "      <td>...</td>\n",
       "      <td>...</td>\n",
       "    </tr>\n",
       "    <tr>\n",
       "      <th>70604</th>\n",
       "      <td>2443347</td>\n",
       "      <td>NaN</td>\n",
       "    </tr>\n",
       "    <tr>\n",
       "      <th>70605</th>\n",
       "      <td>8788427</td>\n",
       "      <td>NaN</td>\n",
       "    </tr>\n",
       "    <tr>\n",
       "      <th>70606</th>\n",
       "      <td>266828</td>\n",
       "      <td>NaN</td>\n",
       "    </tr>\n",
       "    <tr>\n",
       "      <th>70607</th>\n",
       "      <td>1266421</td>\n",
       "      <td>NaN</td>\n",
       "    </tr>\n",
       "    <tr>\n",
       "      <th>70608</th>\n",
       "      <td>9895983</td>\n",
       "      <td>NaN</td>\n",
       "    </tr>\n",
       "  </tbody>\n",
       "</table>\n",
       "<p>70609 rows × 2 columns</p>\n",
       "</div>"
      ],
      "text/plain": [
       "       client_id Variation\n",
       "0        9988021      Test\n",
       "1        8320017      Test\n",
       "2        4033851   Control\n",
       "3        1982004      Test\n",
       "4        9294070   Control\n",
       "...          ...       ...\n",
       "70604    2443347       NaN\n",
       "70605    8788427       NaN\n",
       "70606     266828       NaN\n",
       "70607    1266421       NaN\n",
       "70608    9895983       NaN\n",
       "\n",
       "[70609 rows x 2 columns]"
      ]
     },
     "execution_count": 37,
     "metadata": {},
     "output_type": "execute_result"
    }
   ],
   "source": [
    "df_final_experiment_clients = pd.read_csv(\"data/df_final_experiment_clients.txt\")\n",
    "df_final_experiment_clients"
   ]
  },
  {
   "cell_type": "markdown",
   "metadata": {},
   "source": [
    "We want to determine the **size** of each of the groups. "
   ]
  },
  {
   "cell_type": "code",
   "execution_count": 38,
   "metadata": {},
   "outputs": [
    {
     "data": {
      "text/plain": [
       "Variation\n",
       "Control    23532\n",
       "Test       26968\n",
       "dtype: int64"
      ]
     },
     "execution_count": 38,
     "metadata": {},
     "output_type": "execute_result"
    }
   ],
   "source": [
    "variation = df_final_experiment_clients.groupby(\"Variation\")\n",
    "variation.size()"
   ]
  },
  {
   "cell_type": "markdown",
   "metadata": {},
   "source": [
    "Determining the amount of **null values** in the Dataframe"
   ]
  },
  {
   "cell_type": "code",
   "execution_count": 39,
   "metadata": {},
   "outputs": [
    {
     "data": {
      "text/plain": [
       "client_id        0\n",
       "Variation    20109\n",
       "dtype: int64"
      ]
     },
     "execution_count": 39,
     "metadata": {},
     "output_type": "execute_result"
    }
   ],
   "source": [
    "df_final_experiment_clients.isna().sum()"
   ]
  },
  {
   "cell_type": "markdown",
   "metadata": {},
   "source": [
    "# Step 3 - Determining KPI's"
   ]
  },
  {
   "cell_type": "markdown",
   "metadata": {},
   "source": [
    "Analyze Time Spent on Each Step"
   ]
  },
  {
   "cell_type": "code",
   "execution_count": 40,
   "metadata": {},
   "outputs": [],
   "source": [
    "# Convert date_time to datetime format\n",
    "df['date_time'] = pd.to_datetime(df['date_time'])"
   ]
  },
  {
   "cell_type": "code",
   "execution_count": 41,
   "metadata": {},
   "outputs": [],
   "source": [
    "# Sort by visit_id and date_time\n",
    "df = df.sort_values(by=['visit_id', 'date_time'])"
   ]
  },
  {
   "cell_type": "code",
   "execution_count": 42,
   "metadata": {},
   "outputs": [],
   "source": [
    "# Calculate time spent on each step\n",
    "df['time_spent'] = df.groupby('visit_id')['date_time'].diff().dt.total_seconds()"
   ]
  },
  {
   "cell_type": "code",
   "execution_count": 43,
   "metadata": {},
   "outputs": [],
   "source": [
    "# Fill NaN values in time_spent with 0 for the first step\n",
    "df['time_spent'] = df['time_spent'].fillna(0)"
   ]
  },
  {
   "cell_type": "code",
   "execution_count": 44,
   "metadata": {},
   "outputs": [
    {
     "name": "stdout",
     "output_type": "stream",
     "text": [
      "Average Time Spent on Each Step:\n",
      "  process_step  time_spent\n",
      "0      confirm  117.411594\n",
      "1        start   59.989108\n",
      "2       step_1   39.122070\n",
      "3       step_2   45.542942\n",
      "4       step_3   98.495340\n"
     ]
    }
   ],
   "source": [
    "# Calculate average time spent on each step\n",
    "time_spent_summary = df.groupby('process_step')['time_spent'].mean().reset_index()\n",
    "print(\"Average Time Spent on Each Step:\")\n",
    "print(time_spent_summary)\n"
   ]
  },
  {
   "cell_type": "code",
   "execution_count": 45,
   "metadata": {},
   "outputs": [
    {
     "name": "stderr",
     "output_type": "stream",
     "text": [
      "/var/folders/n6/6tdhcx8d7tq5v5rgh8bbvm8c0000gn/T/ipykernel_1581/1623440689.py:3: FutureWarning: \n",
      "\n",
      "Passing `palette` without assigning `hue` is deprecated and will be removed in v0.14.0. Assign the `x` variable to `hue` and set `legend=False` for the same effect.\n",
      "\n",
      "  sns.barplot(x='process_step', y='time_spent', data=time_spent_summary, palette='viridis')\n"
     ]
    },
    {
     "data": {
      "image/png": "[encoded data removed]",
      "text/plain": [
       "<Figure size 1000x600 with 1 Axes>"
      ]
     },
     "metadata": {},
     "output_type": "display_data"
    }
   ],
   "source": [
    "# Plotting the average time spent on each step\n",
    "plt.figure(figsize=(10, 6))\n",
    "sns.barplot(x='process_step', y='time_spent', data=time_spent_summary, palette='viridis')\n",
    "\n",
    "# Adding titles and labels\n",
    "plt.title('Average Time Spent on Each Step')\n",
    "plt.xlabel('Process Step')\n",
    "plt.ylabel('Average Time Spent (seconds)')\n",
    "plt.xticks(rotation=45)\n",
    "plt.show()"
   ]
  },
  {
   "cell_type": "markdown",
   "metadata": {},
   "source": [
    "# KPI's"
   ]
  },
  {
   "cell_type": "markdown",
   "metadata": {},
   "source": [
    "Completion Rate Hypothesis: The new design (Test group) has a higher completion rate compared to the old design (Control group)."
   ]
  },
  {
   "cell_type": "code",
   "execution_count": 46,
   "metadata": {},
   "outputs": [
    {
     "data": {
      "text/html": [
       "<div>\n",
       "<style scoped>\n",
       "    .dataframe tbody tr th:only-of-type {\n",
       "        vertical-align: middle;\n",
       "    }\n",
       "\n",
       "    .dataframe tbody tr th {\n",
       "        vertical-align: top;\n",
       "    }\n",
       "\n",
       "    .dataframe thead th {\n",
       "        text-align: right;\n",
       "    }\n",
       "</style>\n",
       "<table border=\"1\" class=\"dataframe\">\n",
       "  <thead>\n",
       "    <tr style=\"text-align: right;\">\n",
       "      <th></th>\n",
       "      <th>client_id</th>\n",
       "      <th>clnt_tenure_yr</th>\n",
       "      <th>clnt_tenure_mnth</th>\n",
       "      <th>clnt_age</th>\n",
       "      <th>gendr</th>\n",
       "      <th>num_accts</th>\n",
       "      <th>bal</th>\n",
       "      <th>calls_6_mnth</th>\n",
       "      <th>logons_6_mnth</th>\n",
       "      <th>total_tenure_months</th>\n",
       "      <th>client_status</th>\n",
       "      <th>age_group</th>\n",
       "      <th>visitor_id</th>\n",
       "      <th>visit_id</th>\n",
       "      <th>process_step</th>\n",
       "      <th>date_time</th>\n",
       "      <th>time_spent</th>\n",
       "      <th>Variation</th>\n",
       "    </tr>\n",
       "  </thead>\n",
       "  <tbody>\n",
       "    <tr>\n",
       "      <th>0</th>\n",
       "      <td>836976</td>\n",
       "      <td>6.0</td>\n",
       "      <td>73.0</td>\n",
       "      <td>60.5</td>\n",
       "      <td>U</td>\n",
       "      <td>2.0</td>\n",
       "      <td>45105.30</td>\n",
       "      <td>6.0</td>\n",
       "      <td>9.0</td>\n",
       "      <td>145.0</td>\n",
       "      <td>Long-standing</td>\n",
       "      <td>Older</td>\n",
       "      <td>427070339_1413275162</td>\n",
       "      <td>104438405_2368283624_817211</td>\n",
       "      <td>start</td>\n",
       "      <td>2017-03-29 10:58:35</td>\n",
       "      <td>0.0</td>\n",
       "      <td>Test</td>\n",
       "    </tr>\n",
       "    <tr>\n",
       "      <th>1</th>\n",
       "      <td>836976</td>\n",
       "      <td>6.0</td>\n",
       "      <td>73.0</td>\n",
       "      <td>60.5</td>\n",
       "      <td>U</td>\n",
       "      <td>2.0</td>\n",
       "      <td>45105.30</td>\n",
       "      <td>6.0</td>\n",
       "      <td>9.0</td>\n",
       "      <td>145.0</td>\n",
       "      <td>Long-standing</td>\n",
       "      <td>Older</td>\n",
       "      <td>427070339_1413275162</td>\n",
       "      <td>104438405_2368283624_817211</td>\n",
       "      <td>start</td>\n",
       "      <td>2017-03-29 10:59:43</td>\n",
       "      <td>68.0</td>\n",
       "      <td>Test</td>\n",
       "    </tr>\n",
       "    <tr>\n",
       "      <th>2</th>\n",
       "      <td>836976</td>\n",
       "      <td>6.0</td>\n",
       "      <td>73.0</td>\n",
       "      <td>60.5</td>\n",
       "      <td>U</td>\n",
       "      <td>2.0</td>\n",
       "      <td>45105.30</td>\n",
       "      <td>6.0</td>\n",
       "      <td>9.0</td>\n",
       "      <td>145.0</td>\n",
       "      <td>Long-standing</td>\n",
       "      <td>Older</td>\n",
       "      <td>427070339_1413275162</td>\n",
       "      <td>104438405_2368283624_817211</td>\n",
       "      <td>start</td>\n",
       "      <td>2017-03-29 11:01:40</td>\n",
       "      <td>117.0</td>\n",
       "      <td>Test</td>\n",
       "    </tr>\n",
       "    <tr>\n",
       "      <th>3</th>\n",
       "      <td>836976</td>\n",
       "      <td>6.0</td>\n",
       "      <td>73.0</td>\n",
       "      <td>60.5</td>\n",
       "      <td>U</td>\n",
       "      <td>2.0</td>\n",
       "      <td>45105.30</td>\n",
       "      <td>6.0</td>\n",
       "      <td>9.0</td>\n",
       "      <td>145.0</td>\n",
       "      <td>Long-standing</td>\n",
       "      <td>Older</td>\n",
       "      <td>427070339_1413275162</td>\n",
       "      <td>104438405_2368283624_817211</td>\n",
       "      <td>start</td>\n",
       "      <td>2017-03-29 11:02:44</td>\n",
       "      <td>64.0</td>\n",
       "      <td>Test</td>\n",
       "    </tr>\n",
       "    <tr>\n",
       "      <th>4</th>\n",
       "      <td>836976</td>\n",
       "      <td>6.0</td>\n",
       "      <td>73.0</td>\n",
       "      <td>60.5</td>\n",
       "      <td>U</td>\n",
       "      <td>2.0</td>\n",
       "      <td>45105.30</td>\n",
       "      <td>6.0</td>\n",
       "      <td>9.0</td>\n",
       "      <td>145.0</td>\n",
       "      <td>Long-standing</td>\n",
       "      <td>Older</td>\n",
       "      <td>427070339_1413275162</td>\n",
       "      <td>228976764_46825473280_96584</td>\n",
       "      <td>start</td>\n",
       "      <td>2017-04-02 11:21:28</td>\n",
       "      <td>0.0</td>\n",
       "      <td>Test</td>\n",
       "    </tr>\n",
       "    <tr>\n",
       "      <th>...</th>\n",
       "      <td>...</td>\n",
       "      <td>...</td>\n",
       "      <td>...</td>\n",
       "      <td>...</td>\n",
       "      <td>...</td>\n",
       "      <td>...</td>\n",
       "      <td>...</td>\n",
       "      <td>...</td>\n",
       "      <td>...</td>\n",
       "      <td>...</td>\n",
       "      <td>...</td>\n",
       "      <td>...</td>\n",
       "      <td>...</td>\n",
       "      <td>...</td>\n",
       "      <td>...</td>\n",
       "      <td>...</td>\n",
       "      <td>...</td>\n",
       "      <td>...</td>\n",
       "    </tr>\n",
       "    <tr>\n",
       "      <th>449699</th>\n",
       "      <td>5602139</td>\n",
       "      <td>21.0</td>\n",
       "      <td>254.0</td>\n",
       "      <td>59.5</td>\n",
       "      <td>F</td>\n",
       "      <td>3.0</td>\n",
       "      <td>157498.73</td>\n",
       "      <td>7.0</td>\n",
       "      <td>7.0</td>\n",
       "      <td>506.0</td>\n",
       "      <td>Long-standing</td>\n",
       "      <td>Older</td>\n",
       "      <td>962766819_57063135389</td>\n",
       "      <td>158544612_4105226940_43043</td>\n",
       "      <td>step_2</td>\n",
       "      <td>2017-04-05 11:43:10</td>\n",
       "      <td>0.0</td>\n",
       "      <td>NaN</td>\n",
       "    </tr>\n",
       "    <tr>\n",
       "      <th>449700</th>\n",
       "      <td>5602139</td>\n",
       "      <td>21.0</td>\n",
       "      <td>254.0</td>\n",
       "      <td>59.5</td>\n",
       "      <td>F</td>\n",
       "      <td>3.0</td>\n",
       "      <td>157498.73</td>\n",
       "      <td>7.0</td>\n",
       "      <td>7.0</td>\n",
       "      <td>506.0</td>\n",
       "      <td>Long-standing</td>\n",
       "      <td>Older</td>\n",
       "      <td>962766819_57063135389</td>\n",
       "      <td>158544612_4105226940_43043</td>\n",
       "      <td>step_3</td>\n",
       "      <td>2017-04-05 11:44:07</td>\n",
       "      <td>57.0</td>\n",
       "      <td>NaN</td>\n",
       "    </tr>\n",
       "    <tr>\n",
       "      <th>449701</th>\n",
       "      <td>5602139</td>\n",
       "      <td>21.0</td>\n",
       "      <td>254.0</td>\n",
       "      <td>59.5</td>\n",
       "      <td>F</td>\n",
       "      <td>3.0</td>\n",
       "      <td>157498.73</td>\n",
       "      <td>7.0</td>\n",
       "      <td>7.0</td>\n",
       "      <td>506.0</td>\n",
       "      <td>Long-standing</td>\n",
       "      <td>Older</td>\n",
       "      <td>962766819_57063135389</td>\n",
       "      <td>158544612_4105226940_43043</td>\n",
       "      <td>confirm</td>\n",
       "      <td>2017-04-05 11:48:02</td>\n",
       "      <td>235.0</td>\n",
       "      <td>NaN</td>\n",
       "    </tr>\n",
       "    <tr>\n",
       "      <th>449702</th>\n",
       "      <td>5602139</td>\n",
       "      <td>21.0</td>\n",
       "      <td>254.0</td>\n",
       "      <td>59.5</td>\n",
       "      <td>F</td>\n",
       "      <td>3.0</td>\n",
       "      <td>157498.73</td>\n",
       "      <td>7.0</td>\n",
       "      <td>7.0</td>\n",
       "      <td>506.0</td>\n",
       "      <td>Long-standing</td>\n",
       "      <td>Older</td>\n",
       "      <td>962766819_57063135389</td>\n",
       "      <td>884309593_49820690623_654151</td>\n",
       "      <td>start</td>\n",
       "      <td>2017-04-05 11:41:04</td>\n",
       "      <td>0.0</td>\n",
       "      <td>NaN</td>\n",
       "    </tr>\n",
       "    <tr>\n",
       "      <th>449703</th>\n",
       "      <td>5602139</td>\n",
       "      <td>21.0</td>\n",
       "      <td>254.0</td>\n",
       "      <td>59.5</td>\n",
       "      <td>F</td>\n",
       "      <td>3.0</td>\n",
       "      <td>157498.73</td>\n",
       "      <td>7.0</td>\n",
       "      <td>7.0</td>\n",
       "      <td>506.0</td>\n",
       "      <td>Long-standing</td>\n",
       "      <td>Older</td>\n",
       "      <td>962766819_57063135389</td>\n",
       "      <td>884309593_49820690623_654151</td>\n",
       "      <td>step_1</td>\n",
       "      <td>2017-04-05 11:41:32</td>\n",
       "      <td>28.0</td>\n",
       "      <td>NaN</td>\n",
       "    </tr>\n",
       "  </tbody>\n",
       "</table>\n",
       "<p>449704 rows × 18 columns</p>\n",
       "</div>"
      ],
      "text/plain": [
       "        client_id  clnt_tenure_yr  clnt_tenure_mnth  clnt_age gendr  \\\n",
       "0          836976             6.0              73.0      60.5     U   \n",
       "1          836976             6.0              73.0      60.5     U   \n",
       "2          836976             6.0              73.0      60.5     U   \n",
       "3          836976             6.0              73.0      60.5     U   \n",
       "4          836976             6.0              73.0      60.5     U   \n",
       "...           ...             ...               ...       ...   ...   \n",
       "449699    5602139            21.0             254.0      59.5     F   \n",
       "449700    5602139            21.0             254.0      59.5     F   \n",
       "449701    5602139            21.0             254.0      59.5     F   \n",
       "449702    5602139            21.0             254.0      59.5     F   \n",
       "449703    5602139            21.0             254.0      59.5     F   \n",
       "\n",
       "        num_accts        bal  calls_6_mnth  logons_6_mnth  \\\n",
       "0             2.0   45105.30           6.0            9.0   \n",
       "1             2.0   45105.30           6.0            9.0   \n",
       "2             2.0   45105.30           6.0            9.0   \n",
       "3             2.0   45105.30           6.0            9.0   \n",
       "4             2.0   45105.30           6.0            9.0   \n",
       "...           ...        ...           ...            ...   \n",
       "449699        3.0  157498.73           7.0            7.0   \n",
       "449700        3.0  157498.73           7.0            7.0   \n",
       "449701        3.0  157498.73           7.0            7.0   \n",
       "449702        3.0  157498.73           7.0            7.0   \n",
       "449703        3.0  157498.73           7.0            7.0   \n",
       "\n",
       "        total_tenure_months  client_status age_group             visitor_id  \\\n",
       "0                     145.0  Long-standing     Older   427070339_1413275162   \n",
       "1                     145.0  Long-standing     Older   427070339_1413275162   \n",
       "2                     145.0  Long-standing     Older   427070339_1413275162   \n",
       "3                     145.0  Long-standing     Older   427070339_1413275162   \n",
       "4                     145.0  Long-standing     Older   427070339_1413275162   \n",
       "...                     ...            ...       ...                    ...   \n",
       "449699                506.0  Long-standing     Older  962766819_57063135389   \n",
       "449700                506.0  Long-standing     Older  962766819_57063135389   \n",
       "449701                506.0  Long-standing     Older  962766819_57063135389   \n",
       "449702                506.0  Long-standing     Older  962766819_57063135389   \n",
       "449703                506.0  Long-standing     Older  962766819_57063135389   \n",
       "\n",
       "                            visit_id process_step           date_time  \\\n",
       "0        104438405_2368283624_817211        start 2017-03-29 10:58:35   \n",
       "1        104438405_2368283624_817211        start 2017-03-29 10:59:43   \n",
       "2        104438405_2368283624_817211        start 2017-03-29 11:01:40   \n",
       "3        104438405_2368283624_817211        start 2017-03-29 11:02:44   \n",
       "4        228976764_46825473280_96584        start 2017-04-02 11:21:28   \n",
       "...                              ...          ...                 ...   \n",
       "449699    158544612_4105226940_43043       step_2 2017-04-05 11:43:10   \n",
       "449700    158544612_4105226940_43043       step_3 2017-04-05 11:44:07   \n",
       "449701    158544612_4105226940_43043      confirm 2017-04-05 11:48:02   \n",
       "449702  884309593_49820690623_654151        start 2017-04-05 11:41:04   \n",
       "449703  884309593_49820690623_654151       step_1 2017-04-05 11:41:32   \n",
       "\n",
       "        time_spent Variation  \n",
       "0              0.0      Test  \n",
       "1             68.0      Test  \n",
       "2            117.0      Test  \n",
       "3             64.0      Test  \n",
       "4              0.0      Test  \n",
       "...            ...       ...  \n",
       "449699         0.0       NaN  \n",
       "449700        57.0       NaN  \n",
       "449701       235.0       NaN  \n",
       "449702         0.0       NaN  \n",
       "449703        28.0       NaN  \n",
       "\n",
       "[449704 rows x 18 columns]"
      ]
     },
     "execution_count": 46,
     "metadata": {},
     "output_type": "execute_result"
    }
   ],
   "source": [
    "new_df = pd.merge(df_final_demo, df, how=\"left\", on = \"client_id\")\n",
    "\n",
    "variation_df = pd.merge(new_df, df_final_experiment_clients, on = \"client_id\", how=\"inner\") # We are using an inner join bc we do not care about client's that did not go thru the process\n",
    "variation_df.reset_index()\n",
    "variation_df"
   ]
  },
  {
   "cell_type": "code",
   "execution_count": 47,
   "metadata": {},
   "outputs": [],
   "source": [
    "variation_df.dropna(subset=\"Variation\", inplace = True)"
   ]
  },
  {
   "cell_type": "markdown",
   "metadata": {},
   "source": [
    "Completion Rate Hypothesis: The new design (Test group) has a higher completion rate compared to the old design (Control group)."
   ]
  },
  {
   "cell_type": "code",
   "execution_count": 48,
   "metadata": {},
   "outputs": [
    {
     "name": "stdout",
     "output_type": "stream",
     "text": [
      "  Variation  total_sessions  confirm_sessions  completion_rate\n",
      "0   Control           32181             16039        49.839968\n",
      "1      Test           37122             21725        58.523248\n"
     ]
    }
   ],
   "source": [
    "# Total number of sessions for each group\n",
    "total_sessions = variation_df.groupby('Variation')['visit_id'].nunique().reset_index(name='total_sessions')\n",
    "\n",
    "# Filter the data to only include rows where process_step is \"confirm\"\n",
    "confirm_steps = variation_df[variation_df['process_step'] == 'confirm']\n",
    "\n",
    "# Count the number of sessions that reached the \"confirm\" step for each group\n",
    "confirm_sessions = confirm_steps.groupby('Variation')['visit_id'].nunique().reset_index(name='confirm_sessions')\n",
    "\n",
    "#Merge total sessions with confirm sessions\n",
    "completion_data = pd.merge(total_sessions, confirm_sessions, on='Variation')\n",
    "\n",
    "# Calculate the completion rate\n",
    "completion_data['completion_rate'] = (completion_data['confirm_sessions'] / completion_data['total_sessions']) * 100\n",
    "\n",
    "print(completion_data)"
   ]
  },
  {
   "cell_type": "code",
   "execution_count": 49,
   "metadata": {},
   "outputs": [
    {
     "name": "stdout",
     "output_type": "stream",
     "text": [
      "Z-Statistic: -22.89350661920664\n",
      "P-Value: 5.392475122751855e-116\n",
      "Is the difference in completion rates statistically significant at alpha = 0.05? Yes\n"
     ]
    }
   ],
   "source": [
    "from statsmodels.stats.proportion import proportions_ztest\n",
    "\n",
    "# Extract data for z-test\n",
    "control_successes = completion_data[completion_data['Variation'] == 'Control']['confirm_sessions'].values[0]\n",
    "control_total = completion_data[completion_data['Variation'] == 'Control']['total_sessions'].values[0]\n",
    "\n",
    "test_successes = completion_data[completion_data['Variation'] == 'Test']['confirm_sessions'].values[0]\n",
    "test_total = completion_data[completion_data['Variation'] == 'Test']['total_sessions'].values[0]\n",
    "\n",
    "# Perform z-test for proportions\n",
    "count = [control_successes, test_successes]\n",
    "nobs = [control_total, test_total]\n",
    "\n",
    "z_stat, p_value = proportions_ztest(count, nobs)\n",
    "\n",
    "print(f\"Z-Statistic: {z_stat}\")\n",
    "print(f\"P-Value: {p_value}\")\n",
    "\n",
    "# Check if the difference is statistically significant\n",
    "alpha = 0.05\n",
    "is_significant = p_value < alpha\n",
    "\n",
    "print(f\"Is the difference in completion rates statistically significant at alpha = {alpha}? {'Yes' if is_significant else 'No'}\")"
   ]
  },
  {
   "cell_type": "markdown",
   "metadata": {},
   "source": [
    "Interpretation\n",
    "The completion rate for the Test group (new design) is 58.52%, while for the Control group (old design) it is 49.84%.\n",
    "The Z-Statistic is -22.89, and the P-Value is extremely small (5.39e-116), which is much less than the alpha level of 0.05.\n",
    "Since the P-Value is significantly lower than 0.05, we reject the null hypothesis (H0) and accept the alternative hypothesis (H1).\n",
    "Conclusion: The completion rate of the new design (Test group) is statistically significantly higher than that of the old design (Control group)."
   ]
  },
  {
   "cell_type": "markdown",
   "metadata": {},
   "source": [
    "#test is red control is blue"
   ]
  },
  {
   "cell_type": "code",
   "execution_count": 50,
   "metadata": {},
   "outputs": [
    {
     "name": "stderr",
     "output_type": "stream",
     "text": [
      "/var/folders/n6/6tdhcx8d7tq5v5rgh8bbvm8c0000gn/T/ipykernel_1581/2984972652.py:3: FutureWarning: \n",
      "\n",
      "Passing `palette` without assigning `hue` is deprecated and will be removed in v0.14.0. Assign the `x` variable to `hue` and set `legend=False` for the same effect.\n",
      "\n",
      "  sns.barplot(x='Variation', y='completion_rate', data=completion_data, palette='Set1')\n"
     ]
    },
    {
     "data": {
      "image/png": "[encoded data removed]",
      "text/plain": [
       "<Figure size 500x300 with 1 Axes>"
      ]
     },
     "metadata": {},
     "output_type": "display_data"
    }
   ],
   "source": [
    "#create a bar chart\n",
    "plt.figure(figsize=(5, 3))\n",
    "sns.barplot(x='Variation', y='completion_rate', data=completion_data, palette='Set1')\n",
    "plt.title('Completion Rate by Variation')\n",
    "plt.xlabel('Variation')\n",
    "plt.ylabel('Completion Rate (%)')\n",
    "plt.ylim(0, 100)\n",
    "plt.show()"
   ]
  },
  {
   "cell_type": "markdown",
   "metadata": {},
   "source": [
    "SECOND HYPOTHESIS Cost-Effectiveness Hypothesis: The new design leads to a minimum increase of 5% in the completion rate, making it cost-effective."
   ]
  },
  {
   "cell_type": "code",
   "execution_count": 51,
   "metadata": {},
   "outputs": [
    {
     "name": "stdout",
     "output_type": "stream",
     "text": [
      "client_id\n",
      "555        20.000000\n",
      "647        20.000000\n",
      "934         0.000000\n",
      "1336       42.857143\n",
      "1346        0.000000\n",
      "             ...    \n",
      "9999150     0.000000\n",
      "9999400    20.000000\n",
      "9999626     0.000000\n",
      "9999729     9.090909\n",
      "9999832     0.000000\n",
      "Name: completion, Length: 26961, dtype: float64\n"
     ]
    },
    {
     "name": "stderr",
     "output_type": "stream",
     "text": [
      "/var/folders/n6/6tdhcx8d7tq5v5rgh8bbvm8c0000gn/T/ipykernel_1581/407328631.py:5: SettingWithCopyWarning: \n",
      "A value is trying to be set on a copy of a slice from a DataFrame.\n",
      "Try using .loc[row_indexer,col_indexer] = value instead\n",
      "\n",
      "See the caveats in the documentation: https://pandas.pydata.org/pandas-docs/stable/user_guide/indexing.html#returning-a-view-versus-a-copy\n",
      "  test_clients['completion'] = test_clients['process_step'] == 'confirm'\n"
     ]
    }
   ],
   "source": [
    "# Filter for clients that have the 'Test' variation\n",
    "test_clients = variation_df[variation_df['Variation'] == 'Test']\n",
    "\n",
    "# Identify completions based on the highest process_step\n",
    "test_clients['completion'] = test_clients['process_step'] == 'confirm'\n",
    "\n",
    "# Calculate the completion rate for each client\n",
    "completion_rate = test_clients.groupby('client_id')['completion'].mean() * 100  # Convert to percentage\n",
    "print(completion_rate)\n"
   ]
  },
  {
   "cell_type": "code",
   "execution_count": 52,
   "metadata": {},
   "outputs": [
    {
     "name": "stdout",
     "output_type": "stream",
     "text": [
      "The observed increase in completion rate meets or exceeds the 5% threshold and is statistically significant.\n",
      "Mean completion rate: 14.28%\n",
      "t-statistic: 109.53, p-value: 0.0000\n"
     ]
    }
   ],
   "source": [
    "# Perform a one-sample t-test against the 5% threshold\n",
    "threshold = 5.0 \n",
    "t_stat, p_value = st.ttest_1samp(completion_rate, threshold)\n",
    "\n",
    "if completion_rate.mean() >= threshold and p_value < 0.05:\n",
    "    print(\"The observed increase in completion rate meets or exceeds the 5% threshold and is statistically significant.\")\n",
    "else:\n",
    "    print(\"The observed increase in completion rate does not meet the 5% threshold or is not statistically significant.\")\n",
    "\n",
    "# Print additional details\n",
    "print(f\"Mean completion rate: {completion_rate.mean():.2f}%\")\n",
    "print(f\"t-statistic: {t_stat:.2f}, p-value: {p_value:.4f}\")"
   ]
  },
  {
   "cell_type": "code",
   "execution_count": 53,
   "metadata": {},
   "outputs": [
    {
     "data": {
      "image/png": "[encoded data removed]",
      "text/plain": [
       "<Figure size 640x480 with 1 Axes>"
      ]
     },
     "metadata": {},
     "output_type": "display_data"
    }
   ],
   "source": [
    "# Create a DataFrame for plotting\n",
    "results = pd.DataFrame({\n",
    "    'Measure': ['Completion Rate', 'Threshold'],\n",
    "    'Value': [completion_rate.mean(), threshold]\n",
    "})\n",
    "\n",
    "# Plotting\n",
    "fig, ax = plt.subplots()\n",
    "\n",
    "# Bar plot\n",
    "results.plot(kind='bar', x='Measure', y='Value', ax=ax, color=['skyblue', 'lightcoral'])\n",
    "\n",
    "# Add threshold line\n",
    "ax.axhline(y=threshold, color='r', linestyle='--', label='5% Threshold')\n",
    "\n",
    "# Adding annotations\n",
    "for index, row in results.iterrows():\n",
    "    ax.text(index, row['Value'] + 1, f\"{row['Value']:.2f}\", ha='center')\n",
    "\n",
    "# Titles and labels\n",
    "ax.set_title('Completion Rate vs. 5% Threshold')\n",
    "ax.set_ylabel('Percentage')\n",
    "ax.legend()\n",
    "\n",
    "plt.show()\n"
   ]
  },
  {
   "cell_type": "code",
   "execution_count": 54,
   "metadata": {},
   "outputs": [
    {
     "name": "stdout",
     "output_type": "stream",
     "text": [
      "Observed Increase in Completion Rate: 8.68%\n"
     ]
    }
   ],
   "source": [
    "# Calculate the observed increase in completion rate\n",
    "completion_rate_control = completion_data.loc[completion_data['Variation'] == 'Control', 'completion_rate'].values[0]\n",
    "completion_rate_test = completion_data.loc[completion_data['Variation'] == 'Test', 'completion_rate'].values[0]\n",
    "observed_increase = completion_rate_test - completion_rate_control\n",
    "print(f\"Observed Increase in Completion Rate: {observed_increase:.2f}%\")\n",
    "\n",
    "import numpy as np\n",
    "from scipy.stats import chi2_contingency\n",
    "\n",
    "# confirm_sessions_control = 16046\n",
    "# total_sessions_control = 32189\n",
    "# confirm_sessions_test = 21731\n",
    "# total_sessions_test = 37136\n",
    "\n",
    "# # Create the contingency table\n",
    "# contingency_table = np.array([\n",
    "#     [confirm_sessions_control, total_sessions_control - confirm_sessions_control],\n",
    "#     [confirm_sessions_test, total_sessions_test - confirm_sessions_test]\n",
    "# ])\n",
    "\n",
    "# # Perform the chi-squared test\n",
    "# chi2_stat, p_value, _, _ = chi2_contingency(contingency_table)\n",
    "\n",
    "# # Print the test statistic and p-value\n",
    "# print(f\"Chi-Squared Statistic: {chi2_stat:.2f}\")\n",
    "# print(f\"P-Value: {p_value:.4f}\")\n",
    "\n"
   ]
  },
  {
   "cell_type": "markdown",
   "metadata": {},
   "source": [
    "two dataframes for each group - the control group and the test group"
   ]
  },
  {
   "cell_type": "code",
   "execution_count": 55,
   "metadata": {},
   "outputs": [],
   "source": [
    "control_df = variation_df[variation_df[\"Variation\"] == \"Control\"]\n",
    "test_df = variation_df[variation_df[\"Variation\"] == \"Test\"]"
   ]
  },
  {
   "cell_type": "markdown",
   "metadata": {},
   "source": [
    "#test is red control is blue"
   ]
  },
  {
   "cell_type": "markdown",
   "metadata": {},
   "source": [
    " Average Time Spent on Each Process Step\n",
    "This analysis determines the average duration users spend on each process step for both the test and control groups, allowing for a comparison of time efficiency between the two groups.\n",
    "### 3. Engagement Hypothesis\n",
    "\n",
    "**H0**: The session durations of clients using the new UI are equal to or shorter than those using the old UI.\n",
    "**H1**: The session durations of clients using the new UI are longer than those using the old UI."
   ]
  },
  {
   "cell_type": "code",
   "execution_count": 56,
   "metadata": {},
   "outputs": [
    {
     "name": "stdout",
     "output_type": "stream",
     "text": [
      "Average Time Spent on Each Step:\n",
      "  process_step  time_spent Variation\n",
      "0      confirm  122.529146   Control\n",
      "1        start   55.062641   Control\n",
      "2       step_1   42.568871   Control\n",
      "3       step_2   38.524249   Control\n",
      "4       step_3   92.515996   Control\n"
     ]
    }
   ],
   "source": [
    "# Calculate average time spent on each step for the Control group\n",
    "time_spent_summary_control= variation_df[variation_df['Variation'] =='Control'].groupby('process_step')['time_spent'].mean().reset_index()\n",
    "time_spent_summary_control['Variation'] = 'Control'\n",
    "print(\"Average Time Spent on Each Step:\")\n",
    "print(time_spent_summary_control)\n"
   ]
  },
  {
   "cell_type": "code",
   "execution_count": 57,
   "metadata": {},
   "outputs": [
    {
     "name": "stdout",
     "output_type": "stream",
     "text": [
      "Average Time Spent on Each Step:\n",
      "  process_step  time_spent Variation\n",
      "0      confirm  112.245684      Test\n",
      "1        start   62.309998      Test\n",
      "2       step_1   37.413078      Test\n",
      "3       step_2   47.820970      Test\n",
      "4       step_3   95.863682      Test\n"
     ]
    }
   ],
   "source": [
    "# Calculate average time spent on each step for the Test group\n",
    "time_spent_summary_test= variation_df[variation_df['Variation'] =='Test'].groupby('process_step')['time_spent'].mean().reset_index()\n",
    "time_spent_summary_test['Variation'] = 'Test'\n",
    "print(\"Average Time Spent on Each Step:\")\n",
    "print(time_spent_summary_test)"
   ]
  },
  {
   "cell_type": "code",
   "execution_count": 58,
   "metadata": {},
   "outputs": [
    {
     "name": "stdout",
     "output_type": "stream",
     "text": [
      "Average Time Spent on Each Step:\n",
      "  Variation process_step  time_spent\n",
      "0   Control      confirm  122.529146\n",
      "1   Control        start   55.062641\n",
      "2   Control       step_1   42.568871\n",
      "3   Control       step_2   38.524249\n",
      "4   Control       step_3   92.515996\n",
      "5      Test      confirm  112.245684\n",
      "6      Test        start   62.309998\n",
      "7      Test       step_1   37.413078\n",
      "8      Test       step_2   47.820970\n",
      "9      Test       step_3   95.863682\n"
     ]
    }
   ],
   "source": [
    "# Calculate average time spent on each step for the Test group\n",
    "time_spent_summary= variation_df.groupby(['Variation','process_step'])['time_spent'].mean().reset_index()\n",
    "\n",
    "print(\"Average Time Spent on Each Step:\")\n",
    "print(time_spent_summary)"
   ]
  },
  {
   "cell_type": "code",
   "execution_count": 59,
   "metadata": {},
   "outputs": [
    {
     "data": {
      "text/html": [
       "<div>\n",
       "<style scoped>\n",
       "    .dataframe tbody tr th:only-of-type {\n",
       "        vertical-align: middle;\n",
       "    }\n",
       "\n",
       "    .dataframe tbody tr th {\n",
       "        vertical-align: top;\n",
       "    }\n",
       "\n",
       "    .dataframe thead th {\n",
       "        text-align: right;\n",
       "    }\n",
       "</style>\n",
       "<table border=\"1\" class=\"dataframe\">\n",
       "  <thead>\n",
       "    <tr style=\"text-align: right;\">\n",
       "      <th></th>\n",
       "      <th>process_step</th>\n",
       "      <th>time_spent</th>\n",
       "      <th>Variation</th>\n",
       "    </tr>\n",
       "  </thead>\n",
       "  <tbody>\n",
       "    <tr>\n",
       "      <th>0</th>\n",
       "      <td>start</td>\n",
       "      <td>55.062641</td>\n",
       "      <td>Control</td>\n",
       "    </tr>\n",
       "    <tr>\n",
       "      <th>1</th>\n",
       "      <td>start</td>\n",
       "      <td>62.309998</td>\n",
       "      <td>Test</td>\n",
       "    </tr>\n",
       "    <tr>\n",
       "      <th>2</th>\n",
       "      <td>step_1</td>\n",
       "      <td>42.568871</td>\n",
       "      <td>Control</td>\n",
       "    </tr>\n",
       "    <tr>\n",
       "      <th>3</th>\n",
       "      <td>step_1</td>\n",
       "      <td>37.413078</td>\n",
       "      <td>Test</td>\n",
       "    </tr>\n",
       "    <tr>\n",
       "      <th>4</th>\n",
       "      <td>step_2</td>\n",
       "      <td>38.524249</td>\n",
       "      <td>Control</td>\n",
       "    </tr>\n",
       "    <tr>\n",
       "      <th>5</th>\n",
       "      <td>step_2</td>\n",
       "      <td>47.820970</td>\n",
       "      <td>Test</td>\n",
       "    </tr>\n",
       "    <tr>\n",
       "      <th>6</th>\n",
       "      <td>step_3</td>\n",
       "      <td>92.515996</td>\n",
       "      <td>Control</td>\n",
       "    </tr>\n",
       "    <tr>\n",
       "      <th>7</th>\n",
       "      <td>step_3</td>\n",
       "      <td>95.863682</td>\n",
       "      <td>Test</td>\n",
       "    </tr>\n",
       "    <tr>\n",
       "      <th>8</th>\n",
       "      <td>confirm</td>\n",
       "      <td>122.529146</td>\n",
       "      <td>Control</td>\n",
       "    </tr>\n",
       "    <tr>\n",
       "      <th>9</th>\n",
       "      <td>confirm</td>\n",
       "      <td>112.245684</td>\n",
       "      <td>Test</td>\n",
       "    </tr>\n",
       "  </tbody>\n",
       "</table>\n",
       "</div>"
      ],
      "text/plain": [
       "  process_step  time_spent Variation\n",
       "0        start   55.062641   Control\n",
       "1        start   62.309998      Test\n",
       "2       step_1   42.568871   Control\n",
       "3       step_1   37.413078      Test\n",
       "4       step_2   38.524249   Control\n",
       "5       step_2   47.820970      Test\n",
       "6       step_3   92.515996   Control\n",
       "7       step_3   95.863682      Test\n",
       "8      confirm  122.529146   Control\n",
       "9      confirm  112.245684      Test"
      ]
     },
     "metadata": {},
     "output_type": "display_data"
    }
   ],
   "source": [
    "# Combine both dataframes\n",
    "combined_df = pd.concat([time_spent_summary_control, time_spent_summary_test])\n",
    "\n",
    "# Order the process steps correctly\n",
    "step_order = ['start', 'step_1', 'step_2', 'step_3', 'confirm']\n",
    "combined_df['process_step'] = pd.Categorical(combined_df['process_step'], categories=step_order, ordered=True)\n",
    "combined_df = combined_df.sort_values('process_step').reset_index(drop=True)\n",
    "display(combined_df)"
   ]
  },
  {
   "cell_type": "code",
   "execution_count": 60,
   "metadata": {},
   "outputs": [
    {
     "data": {
      "image/png": "[encoded data removed]",
      "text/plain": [
       "<Figure size 1200x600 with 1 Axes>"
      ]
     },
     "metadata": {},
     "output_type": "display_data"
    }
   ],
   "source": [
    "# Plotting\n",
    "plt.figure(figsize=(12, 6))\n",
    "\n",
    "# Create separate palettes for control and test groups\n",
    "palette = {'Control': 'skyblue', 'Test': 'red'}\n",
    "\n",
    "# Create a bar plot using Seaborn\n",
    "sns.barplot(x='process_step', y='time_spent', hue='Variation', data=combined_df, palette=palette)\n",
    "\n",
    "# Set plot title and labels\n",
    "plt.title('Average Duration Spent on Each Step by Group (in seconds)')\n",
    "plt.xlabel('Process Step')\n",
    "plt.ylabel('Average Duration (seconds)')\n",
    "\n",
    "# Show plot\n",
    "plt.show()"
   ]
  },
  {
   "cell_type": "code",
   "execution_count": 61,
   "metadata": {},
   "outputs": [
    {
     "name": "stdout",
     "output_type": "stream",
     "text": [
      "T-test Results for Each Process Step:\n",
      "  process_step  control_mean   test_mean     t_stat       p_value\n",
      "0        start     55.062641   62.309998  -4.122121  3.757414e-05\n",
      "1       step_1     42.568871   37.413078   6.724774  1.773240e-11\n",
      "2       step_2     38.524249   47.820970 -13.243795  5.650431e-40\n",
      "3       step_3     92.515996   95.863682  -3.073406  2.117474e-03\n",
      "4      confirm    122.529146  112.245684   5.073302  3.926209e-07\n"
     ]
    }
   ],
   "source": [
    "# Initialize list to store results\n",
    "results = []\n",
    "\n",
    "# Perform t-test for each process step\n",
    "for step in step_order:\n",
    "    control_times = variation_df[(variation_df['Variation'] == 'Control') & (variation_df['process_step'] == step)]['time_spent']\n",
    "    test_times = variation_df[(variation_df['Variation'] == 'Test') & (variation_df['process_step'] == step)]['time_spent']\n",
    "    \n",
    "    if not control_times.empty and not test_times.empty:\n",
    "        t_stat, p_value = ttest_ind(control_times, test_times, equal_var=False)\n",
    "        results.append({\n",
    "            'process_step': step,\n",
    "            'control_mean': control_times.mean(),\n",
    "            'test_mean': test_times.mean(),\n",
    "            't_stat': t_stat,\n",
    "            'p_value': p_value\n",
    "        })\n",
    "    else:\n",
    "        results.append({\n",
    "            'process_step': step,\n",
    "            'control_mean': control_times.mean() if not control_times.empty else None,\n",
    "            'test_mean': test_times.mean() if not test_times.empty else None,\n",
    "            't_stat': None,\n",
    "            'p_value': None\n",
    "        })\n",
    "\n",
    "# Convert results to DataFrame\n",
    "ttest_results_df = pd.DataFrame(results)\n",
    "\n",
    "# Display the t-test results\n",
    "print(\"T-test Results for Each Process Step:\")\n",
    "print(ttest_results_df)\n"
   ]
  },
  {
   "cell_type": "markdown",
   "metadata": {},
   "source": [
    "Interpretation:\n",
    "Start\n",
    "\n",
    "Control Mean: 62.90\n",
    "Test Mean: 60.56\n",
    "t-statistic: 1.344666\n",
    "p-value: 0.1787376\n",
    "The mean time spent on the \"start\" step is slightly higher for the Control group compared to the Test group. However, the p-value is 0.1787376, which is greater than the common significance level of 0.05. This means the difference is not statistically significant, and we cannot conclude that there is a meaningful difference in the time spent on the \"start\" step between the two groups.\n",
    "\n",
    "Step 1\n",
    "\n",
    "Control Mean: 50.35\n",
    "Test Mean: 60.56\n",
    "t-statistic: -8.396010\n",
    "p-value: 4.728907e-17 (very close to 0)\n",
    "The mean time spent on \"step_1\" is significantly higher for the Test group compared to the Control group. The t-statistic is -8.396010, and the p-value is extremely small (4.728907e-17), which is much less than 0.05. This indicates that the difference is statistically significant, and we can conclude that the Test group spends significantly more time on \"step_1\" than the Control group.\n",
    "\n",
    "Step 2\n",
    "\n",
    "Control Mean: 91.59\n",
    "Test Mean: 88.70\n",
    "t-statistic: 2.074673\n",
    "p-value: 0.03802266\n",
    "The mean time spent on \"step_2\" is slightly higher for the Control group compared to the Test group. The p-value is 0.03802266, which is less than 0.05, indicating that the difference is statistically significant. We can conclude that there is a meaningful difference in the time spent on \"step_2\" between the two groups, with the Control group spending more time.\n",
    "\n",
    "Step 3\n",
    "\n",
    "Control Mean: 135.37\n",
    "Test Mean: 128.89\n",
    "t-statistic: 3.144886\n",
    "p-value: 0.001662621\n",
    "The mean time spent on \"step_3\" is higher for the Control group compared to the Test group. The p-value is 0.001662621, which is less than 0.05, indicating that the difference is statistically significant. We can conclude that there is a meaningful difference in the time spent on \"step_3\" between the two groups, with the Control group spending more time.\n",
    "\n",
    "Confirm\n",
    "\n",
    "Control Mean: 164.70\n",
    "Test Mean: 243.07\n",
    "t-statistic: -6.966854\n",
    "p-value: 3.641070e-12 (very close to 0)\n",
    "The mean time spent on the \"confirm\" step is significantly higher for the Test group compared to the Control group. The t-statistic is -6.966854, and the p-value is extremely small (3.641070e-12), which is much less than 0.05. This indicates that the difference is statistically significant, and we can conclude that the Test group spends significantly more time on the \"confirm\" step than the Control group.\n",
    "\n",
    "Summary:\n",
    "Start: No significant difference in time spent between Control and Test groups.\n",
    "Step 1: Test group spends significantly more time than Control group.\n",
    "Step 2: Control group spends significantly more time than Test group.\n",
    "Step 3: Control group spends significantly more time than Test group.\n",
    "Confirm: Test group spends significantly more time than Control group.\n",
    "Overall, the Test group spends significantly more time on \"step_1\" and \"confirm\" steps, while the Control group spends significantly more time on \"step_2\" and \"step_3\" steps.\n"
   ]
  },
  {
   "cell_type": "markdown",
   "metadata": {},
   "source": [
    "Focuses on the average time spent on each process step, providing insights into the time efficiency of each step in the test vs. control group."
   ]
  },
  {
   "cell_type": "markdown",
   "metadata": {},
   "source": [
    "# **ERROR RATE HYPOTHESIS**"
   ]
  },
  {
   "cell_type": "markdown",
   "metadata": {},
   "source": [
    "Task Efficiency Hypothesis\n",
    "\n",
    "**H0**: Clients in the test group complete the process with the same or higher error rates and retries compared to the control group.\n",
    "**H1**: Clients in the test group complete the process with fewer errors and retries compared to the control group.\n",
    "\n",
    "\n"
   ]
  },
  {
   "cell_type": "markdown",
   "metadata": {},
   "source": [
    "#Sort the data by client_id, visit_id, and date_time to trace the users’ navigation sequence accurately."
   ]
  },
  {
   "cell_type": "code",
   "execution_count": 62,
   "metadata": {},
   "outputs": [],
   "source": [
    "# Sort data by client_id, visit_id, and date_time\n",
    "variation_df = variation_df.sort_values(by=['client_id', 'visitor_id', 'date_time'])\n"
   ]
  },
  {
   "cell_type": "markdown",
   "metadata": {},
   "source": [
    "#Convert time_period to a numeric type: We need to convert time_period to a numeric type if it's not already one, and ensure prev_step is also numeric."
   ]
  },
  {
   "cell_type": "markdown",
   "metadata": {},
   "source": [
    "Determine the frequency of backward navigations for each user in both control and test groups.\n",
    "Compare the error rates between the two groups to assess if the new UI design reduces or increases errors."
   ]
  },
  {
   "cell_type": "markdown",
   "metadata": {},
   "source": [
    "Creating prev_step:\n",
    "\n",
    "Operation: df.groupby(['client_id', 'visitor_id'])['step_index'].shift(1)\n",
    "Purpose: This groups the data by client_id and visitor_id, then shifts the time_period column by one position to get the previous step for each user session.\n",
    "Result: A new column prev_step that shows the previous time_period for each step."
   ]
  },
  {
   "cell_type": "code",
   "execution_count": 63,
   "metadata": {},
   "outputs": [],
   "source": [
    "# Create the new column with the mapped values\n",
    "mapping = { 'start': 0, 'step_1': 1, 'step_2': 2, 'step_3': 3, 'confirm': 4 } \n",
    "variation_df['step_index'] = variation_df['process_step'].map(mapping)"
   ]
  },
  {
   "cell_type": "code",
   "execution_count": 64,
   "metadata": {},
   "outputs": [
    {
     "data": {
      "text/html": [
       "<div>\n",
       "<style scoped>\n",
       "    .dataframe tbody tr th:only-of-type {\n",
       "        vertical-align: middle;\n",
       "    }\n",
       "\n",
       "    .dataframe tbody tr th {\n",
       "        vertical-align: top;\n",
       "    }\n",
       "\n",
       "    .dataframe thead th {\n",
       "        text-align: right;\n",
       "    }\n",
       "</style>\n",
       "<table border=\"1\" class=\"dataframe\">\n",
       "  <thead>\n",
       "    <tr style=\"text-align: right;\">\n",
       "      <th></th>\n",
       "      <th>client_id</th>\n",
       "      <th>clnt_tenure_yr</th>\n",
       "      <th>clnt_tenure_mnth</th>\n",
       "      <th>clnt_age</th>\n",
       "      <th>gendr</th>\n",
       "      <th>num_accts</th>\n",
       "      <th>bal</th>\n",
       "      <th>calls_6_mnth</th>\n",
       "      <th>logons_6_mnth</th>\n",
       "      <th>total_tenure_months</th>\n",
       "      <th>client_status</th>\n",
       "      <th>age_group</th>\n",
       "      <th>visitor_id</th>\n",
       "      <th>visit_id</th>\n",
       "      <th>process_step</th>\n",
       "      <th>date_time</th>\n",
       "      <th>time_spent</th>\n",
       "      <th>Variation</th>\n",
       "      <th>step_index</th>\n",
       "    </tr>\n",
       "  </thead>\n",
       "  <tbody>\n",
       "    <tr>\n",
       "      <th>304306</th>\n",
       "      <td>3561384</td>\n",
       "      <td>4.0</td>\n",
       "      <td>56.0</td>\n",
       "      <td>59.5</td>\n",
       "      <td>U</td>\n",
       "      <td>2.0</td>\n",
       "      <td>63130.44</td>\n",
       "      <td>6.0</td>\n",
       "      <td>9.0</td>\n",
       "      <td>104.0</td>\n",
       "      <td>Long-standing</td>\n",
       "      <td>Older</td>\n",
       "      <td>451664975_1722933822</td>\n",
       "      <td>100012776_37918976071_457913</td>\n",
       "      <td>confirm</td>\n",
       "      <td>2017-04-26 13:22:17</td>\n",
       "      <td>0.0</td>\n",
       "      <td>Test</td>\n",
       "      <td>4</td>\n",
       "    </tr>\n",
       "    <tr>\n",
       "      <th>304307</th>\n",
       "      <td>3561384</td>\n",
       "      <td>4.0</td>\n",
       "      <td>56.0</td>\n",
       "      <td>59.5</td>\n",
       "      <td>U</td>\n",
       "      <td>2.0</td>\n",
       "      <td>63130.44</td>\n",
       "      <td>6.0</td>\n",
       "      <td>9.0</td>\n",
       "      <td>104.0</td>\n",
       "      <td>Long-standing</td>\n",
       "      <td>Older</td>\n",
       "      <td>451664975_1722933822</td>\n",
       "      <td>100012776_37918976071_457913</td>\n",
       "      <td>confirm</td>\n",
       "      <td>2017-04-26 13:23:09</td>\n",
       "      <td>52.0</td>\n",
       "      <td>Test</td>\n",
       "      <td>4</td>\n",
       "    </tr>\n",
       "    <tr>\n",
       "      <th>78003</th>\n",
       "      <td>7338123</td>\n",
       "      <td>7.0</td>\n",
       "      <td>88.0</td>\n",
       "      <td>23.5</td>\n",
       "      <td>M</td>\n",
       "      <td>2.0</td>\n",
       "      <td>26436.73</td>\n",
       "      <td>6.0</td>\n",
       "      <td>9.0</td>\n",
       "      <td>172.0</td>\n",
       "      <td>Long-standing</td>\n",
       "      <td>Younger</td>\n",
       "      <td>612065484_94198474375</td>\n",
       "      <td>100019538_17884295066_43909</td>\n",
       "      <td>start</td>\n",
       "      <td>2017-04-09 16:20:56</td>\n",
       "      <td>0.0</td>\n",
       "      <td>Test</td>\n",
       "      <td>0</td>\n",
       "    </tr>\n",
       "    <tr>\n",
       "      <th>78004</th>\n",
       "      <td>7338123</td>\n",
       "      <td>7.0</td>\n",
       "      <td>88.0</td>\n",
       "      <td>23.5</td>\n",
       "      <td>M</td>\n",
       "      <td>2.0</td>\n",
       "      <td>26436.73</td>\n",
       "      <td>6.0</td>\n",
       "      <td>9.0</td>\n",
       "      <td>172.0</td>\n",
       "      <td>Long-standing</td>\n",
       "      <td>Younger</td>\n",
       "      <td>612065484_94198474375</td>\n",
       "      <td>100019538_17884295066_43909</td>\n",
       "      <td>step_1</td>\n",
       "      <td>2017-04-09 16:21:12</td>\n",
       "      <td>16.0</td>\n",
       "      <td>Test</td>\n",
       "      <td>1</td>\n",
       "    </tr>\n",
       "    <tr>\n",
       "      <th>78005</th>\n",
       "      <td>7338123</td>\n",
       "      <td>7.0</td>\n",
       "      <td>88.0</td>\n",
       "      <td>23.5</td>\n",
       "      <td>M</td>\n",
       "      <td>2.0</td>\n",
       "      <td>26436.73</td>\n",
       "      <td>6.0</td>\n",
       "      <td>9.0</td>\n",
       "      <td>172.0</td>\n",
       "      <td>Long-standing</td>\n",
       "      <td>Younger</td>\n",
       "      <td>612065484_94198474375</td>\n",
       "      <td>100019538_17884295066_43909</td>\n",
       "      <td>step_2</td>\n",
       "      <td>2017-04-09 16:21:21</td>\n",
       "      <td>9.0</td>\n",
       "      <td>Test</td>\n",
       "      <td>2</td>\n",
       "    </tr>\n",
       "    <tr>\n",
       "      <th>...</th>\n",
       "      <td>...</td>\n",
       "      <td>...</td>\n",
       "      <td>...</td>\n",
       "      <td>...</td>\n",
       "      <td>...</td>\n",
       "      <td>...</td>\n",
       "      <td>...</td>\n",
       "      <td>...</td>\n",
       "      <td>...</td>\n",
       "      <td>...</td>\n",
       "      <td>...</td>\n",
       "      <td>...</td>\n",
       "      <td>...</td>\n",
       "      <td>...</td>\n",
       "      <td>...</td>\n",
       "      <td>...</td>\n",
       "      <td>...</td>\n",
       "      <td>...</td>\n",
       "      <td>...</td>\n",
       "    </tr>\n",
       "    <tr>\n",
       "      <th>198750</th>\n",
       "      <td>6627522</td>\n",
       "      <td>18.0</td>\n",
       "      <td>227.0</td>\n",
       "      <td>58.0</td>\n",
       "      <td>F</td>\n",
       "      <td>2.0</td>\n",
       "      <td>1056775.54</td>\n",
       "      <td>6.0</td>\n",
       "      <td>9.0</td>\n",
       "      <td>443.0</td>\n",
       "      <td>Long-standing</td>\n",
       "      <td>Older</td>\n",
       "      <td>730634087_44272418812</td>\n",
       "      <td>999988789_76411676596_272843</td>\n",
       "      <td>start</td>\n",
       "      <td>2017-04-21 23:49:11</td>\n",
       "      <td>0.0</td>\n",
       "      <td>Test</td>\n",
       "      <td>0</td>\n",
       "    </tr>\n",
       "    <tr>\n",
       "      <th>198751</th>\n",
       "      <td>6627522</td>\n",
       "      <td>18.0</td>\n",
       "      <td>227.0</td>\n",
       "      <td>58.0</td>\n",
       "      <td>F</td>\n",
       "      <td>2.0</td>\n",
       "      <td>1056775.54</td>\n",
       "      <td>6.0</td>\n",
       "      <td>9.0</td>\n",
       "      <td>443.0</td>\n",
       "      <td>Long-standing</td>\n",
       "      <td>Older</td>\n",
       "      <td>730634087_44272418812</td>\n",
       "      <td>999988789_76411676596_272843</td>\n",
       "      <td>step_1</td>\n",
       "      <td>2017-04-21 23:49:22</td>\n",
       "      <td>11.0</td>\n",
       "      <td>Test</td>\n",
       "      <td>1</td>\n",
       "    </tr>\n",
       "    <tr>\n",
       "      <th>198752</th>\n",
       "      <td>6627522</td>\n",
       "      <td>18.0</td>\n",
       "      <td>227.0</td>\n",
       "      <td>58.0</td>\n",
       "      <td>F</td>\n",
       "      <td>2.0</td>\n",
       "      <td>1056775.54</td>\n",
       "      <td>6.0</td>\n",
       "      <td>9.0</td>\n",
       "      <td>443.0</td>\n",
       "      <td>Long-standing</td>\n",
       "      <td>Older</td>\n",
       "      <td>730634087_44272418812</td>\n",
       "      <td>999988789_76411676596_272843</td>\n",
       "      <td>step_2</td>\n",
       "      <td>2017-04-21 23:50:16</td>\n",
       "      <td>54.0</td>\n",
       "      <td>Test</td>\n",
       "      <td>2</td>\n",
       "    </tr>\n",
       "    <tr>\n",
       "      <th>198753</th>\n",
       "      <td>6627522</td>\n",
       "      <td>18.0</td>\n",
       "      <td>227.0</td>\n",
       "      <td>58.0</td>\n",
       "      <td>F</td>\n",
       "      <td>2.0</td>\n",
       "      <td>1056775.54</td>\n",
       "      <td>6.0</td>\n",
       "      <td>9.0</td>\n",
       "      <td>443.0</td>\n",
       "      <td>Long-standing</td>\n",
       "      <td>Older</td>\n",
       "      <td>730634087_44272418812</td>\n",
       "      <td>999988789_76411676596_272843</td>\n",
       "      <td>step_1</td>\n",
       "      <td>2017-04-21 23:51:00</td>\n",
       "      <td>44.0</td>\n",
       "      <td>Test</td>\n",
       "      <td>1</td>\n",
       "    </tr>\n",
       "    <tr>\n",
       "      <th>198754</th>\n",
       "      <td>6627522</td>\n",
       "      <td>18.0</td>\n",
       "      <td>227.0</td>\n",
       "      <td>58.0</td>\n",
       "      <td>F</td>\n",
       "      <td>2.0</td>\n",
       "      <td>1056775.54</td>\n",
       "      <td>6.0</td>\n",
       "      <td>9.0</td>\n",
       "      <td>443.0</td>\n",
       "      <td>Long-standing</td>\n",
       "      <td>Older</td>\n",
       "      <td>730634087_44272418812</td>\n",
       "      <td>999988789_76411676596_272843</td>\n",
       "      <td>start</td>\n",
       "      <td>2017-04-21 23:51:09</td>\n",
       "      <td>9.0</td>\n",
       "      <td>Test</td>\n",
       "      <td>0</td>\n",
       "    </tr>\n",
       "  </tbody>\n",
       "</table>\n",
       "<p>321195 rows × 19 columns</p>\n",
       "</div>"
      ],
      "text/plain": [
       "        client_id  clnt_tenure_yr  clnt_tenure_mnth  clnt_age gendr  \\\n",
       "304306    3561384             4.0              56.0      59.5     U   \n",
       "304307    3561384             4.0              56.0      59.5     U   \n",
       "78003     7338123             7.0              88.0      23.5     M   \n",
       "78004     7338123             7.0              88.0      23.5     M   \n",
       "78005     7338123             7.0              88.0      23.5     M   \n",
       "...           ...             ...               ...       ...   ...   \n",
       "198750    6627522            18.0             227.0      58.0     F   \n",
       "198751    6627522            18.0             227.0      58.0     F   \n",
       "198752    6627522            18.0             227.0      58.0     F   \n",
       "198753    6627522            18.0             227.0      58.0     F   \n",
       "198754    6627522            18.0             227.0      58.0     F   \n",
       "\n",
       "        num_accts         bal  calls_6_mnth  logons_6_mnth  \\\n",
       "304306        2.0    63130.44           6.0            9.0   \n",
       "304307        2.0    63130.44           6.0            9.0   \n",
       "78003         2.0    26436.73           6.0            9.0   \n",
       "78004         2.0    26436.73           6.0            9.0   \n",
       "78005         2.0    26436.73           6.0            9.0   \n",
       "...           ...         ...           ...            ...   \n",
       "198750        2.0  1056775.54           6.0            9.0   \n",
       "198751        2.0  1056775.54           6.0            9.0   \n",
       "198752        2.0  1056775.54           6.0            9.0   \n",
       "198753        2.0  1056775.54           6.0            9.0   \n",
       "198754        2.0  1056775.54           6.0            9.0   \n",
       "\n",
       "        total_tenure_months  client_status age_group             visitor_id  \\\n",
       "304306                104.0  Long-standing     Older   451664975_1722933822   \n",
       "304307                104.0  Long-standing     Older   451664975_1722933822   \n",
       "78003                 172.0  Long-standing   Younger  612065484_94198474375   \n",
       "78004                 172.0  Long-standing   Younger  612065484_94198474375   \n",
       "78005                 172.0  Long-standing   Younger  612065484_94198474375   \n",
       "...                     ...            ...       ...                    ...   \n",
       "198750                443.0  Long-standing     Older  730634087_44272418812   \n",
       "198751                443.0  Long-standing     Older  730634087_44272418812   \n",
       "198752                443.0  Long-standing     Older  730634087_44272418812   \n",
       "198753                443.0  Long-standing     Older  730634087_44272418812   \n",
       "198754                443.0  Long-standing     Older  730634087_44272418812   \n",
       "\n",
       "                            visit_id process_step           date_time  \\\n",
       "304306  100012776_37918976071_457913      confirm 2017-04-26 13:22:17   \n",
       "304307  100012776_37918976071_457913      confirm 2017-04-26 13:23:09   \n",
       "78003    100019538_17884295066_43909        start 2017-04-09 16:20:56   \n",
       "78004    100019538_17884295066_43909       step_1 2017-04-09 16:21:12   \n",
       "78005    100019538_17884295066_43909       step_2 2017-04-09 16:21:21   \n",
       "...                              ...          ...                 ...   \n",
       "198750  999988789_76411676596_272843        start 2017-04-21 23:49:11   \n",
       "198751  999988789_76411676596_272843       step_1 2017-04-21 23:49:22   \n",
       "198752  999988789_76411676596_272843       step_2 2017-04-21 23:50:16   \n",
       "198753  999988789_76411676596_272843       step_1 2017-04-21 23:51:00   \n",
       "198754  999988789_76411676596_272843        start 2017-04-21 23:51:09   \n",
       "\n",
       "        time_spent Variation  step_index  \n",
       "304306         0.0      Test           4  \n",
       "304307        52.0      Test           4  \n",
       "78003          0.0      Test           0  \n",
       "78004         16.0      Test           1  \n",
       "78005          9.0      Test           2  \n",
       "...            ...       ...         ...  \n",
       "198750         0.0      Test           0  \n",
       "198751        11.0      Test           1  \n",
       "198752        54.0      Test           2  \n",
       "198753        44.0      Test           1  \n",
       "198754         9.0      Test           0  \n",
       "\n",
       "[321195 rows x 19 columns]"
      ]
     },
     "execution_count": 64,
     "metadata": {},
     "output_type": "execute_result"
    }
   ],
   "source": [
    "variation_df.sort_values(by=['visit_id', 'date_time'])"
   ]
  },
  {
   "cell_type": "code",
   "execution_count": 65,
   "metadata": {},
   "outputs": [],
   "source": [
    "variation_df['prev_step_index'] = variation_df.groupby('visit_id')['step_index'].shift(1)\n"
   ]
  },
  {
   "cell_type": "code",
   "execution_count": 66,
   "metadata": {},
   "outputs": [],
   "source": [
    "# Function to detect backward navigation\n",
    "variation_df['is_back_track'] = variation_df['prev_step_index'] > variation_df['step_index'] "
   ]
  },
  {
   "cell_type": "markdown",
   "metadata": {},
   "source": [
    "Calculated error rates by grouping the data by the variation column and computing the mean of the is_backward column."
   ]
  },
  {
   "cell_type": "code",
   "execution_count": 67,
   "metadata": {},
   "outputs": [
    {
     "name": "stdout",
     "output_type": "stream",
     "text": [
      "Error Rates:\n",
      "Variation\n",
      "Control    0.067702\n",
      "Test       0.091936\n",
      "Name: is_back_track, dtype: float64\n"
     ]
    }
   ],
   "source": [
    "# Calculate error rates\n",
    "error_rates = variation_df.groupby('Variation')['is_back_track'].mean()\n",
    "\n",
    "print(\"Error Rates:\")\n",
    "print(error_rates)"
   ]
  },
  {
   "cell_type": "code",
   "execution_count": 68,
   "metadata": {},
   "outputs": [
    {
     "name": "stderr",
     "output_type": "stream",
     "text": [
      "/var/folders/n6/6tdhcx8d7tq5v5rgh8bbvm8c0000gn/T/ipykernel_1581/2008076120.py:10: FutureWarning: \n",
      "\n",
      "Passing `palette` without assigning `hue` is deprecated and will be removed in v0.14.0. Assign the `x` variable to `hue` and set `legend=False` for the same effect.\n",
      "\n",
      "  sns.barplot(x='Variation', y='Error Rate', data=error_rates_df, palette=['skyblue', 'red'])\n"
     ]
    },
    {
     "data": {
      "image/png": "[encoded data removed]",
      "text/plain": [
       "<Figure size 1000x600 with 1 Axes>"
      ]
     },
     "metadata": {},
     "output_type": "display_data"
    }
   ],
   "source": [
    "\n",
    "# Data for error rates\n",
    "error_rates = pd.Series({'Control': 0.067702, 'Test': 0.091936}, name='error_rate')\n",
    "\n",
    "# Convert the series to a DataFrame for easier plotting\n",
    "error_rates_df = error_rates.reset_index()\n",
    "error_rates_df.columns = ['Variation', 'Error Rate']\n",
    "\n",
    "# Plotting the error rates\n",
    "plt.figure(figsize=(10, 6))\n",
    "sns.barplot(x='Variation', y='Error Rate', data=error_rates_df, palette=['skyblue', 'red'])\n",
    "\n",
    "# Set plot title and labels\n",
    "plt.title('Error Rates for Control and Test Groups')\n",
    "plt.xlabel('Group')\n",
    "plt.ylabel('Error Rate')\n",
    "\n",
    "# Show plot\n",
    "plt.show()\n"
   ]
  },
  {
   "cell_type": "markdown",
   "metadata": {},
   "source": [
    "Frequency of Backward Navigations\n",
    "Control Group: The error rate (frequency of backward navigations) is approximately 6.77%.\n",
    "Test Group: The error rate (frequency of backward navigations) is approximately 9.19%.\n",
    "Interpretation\n",
    "Higher Error Rate in Test Group: The test group has a higher error rate compared to the control group. This suggests that users in the test group, using the new UI design, are navigating backward more frequently than users in the control group.\n",
    "\n",
    "Potential Issues with the New UI: The increase in backward navigations in the test group may indicate that the new UI design is causing more confusion or difficulties for users, leading them to navigate backward more often. This can be seen as a sign that the new design might be less intuitive or user-friendly than the current design.\n",
    "\n",
    "User Experience Implications: The higher backward navigation rate in the test group implies that users might be experiencing more errors or needing to correct their actions more frequently. This can negatively impact the overall user experience.\n",
    "\n",
    "Recommendations\n",
    "Analyze Specific Steps: Further analyze which specific steps have higher backward navigation rates to identify particular areas of the new UI that might be problematic.\n",
    "User Feedback: Collect qualitative feedback from users to understand the reasons behind the higher backward navigation rates in the test group.\n",
    "Iterate on Design: Consider iterating on the new UI design based on the findings from the backward navigation analysis and user feedback, aiming to reduce the error rate.\n",
    "A/B Testing: Continue A/B testing with refined versions of the UI to ensure improvements are made and error rates decrease.\n",
    "Conclusion\n",
    "The results suggest that the new UI design in the test group may not be performing as well as the current UI design in the control group in terms of minimizing user errors (as indicated by backward navigations). Addressing the issues identified can help improve the new design and potentially lead to a better user experience."
   ]
  },
  {
   "cell_type": "markdown",
   "metadata": {},
   "source": [
    "Perform statistical tests (e.g., chi-square test) to determine if the difference in error rates between the control and test groups is statistically significant."
   ]
  },
  {
   "cell_type": "code",
   "execution_count": 69,
   "metadata": {},
   "outputs": [
    {
     "name": "stdout",
     "output_type": "stream",
     "text": [
      "Chi-Square Test:\n",
      "Chi2: 625.1144708652691\n",
      "p-value: 5.77278882390317e-138\n"
     ]
    }
   ],
   "source": [
    "# Statistical analysis (e.g., chi-square test)\n",
    "# Create a contingency table\n",
    "contingency_table = pd.crosstab(variation_df['Variation'], variation_df['is_back_track'])\n",
    "\n",
    "chi2, p, dof, ex = chi2_contingency(contingency_table)\n",
    "\n",
    "print(f\"Chi-Square Test:\\nChi2: {chi2}\\np-value: {p}\")"
   ]
  },
  {
   "cell_type": "code",
   "execution_count": 70,
   "metadata": {},
   "outputs": [
    {
     "name": "stderr",
     "output_type": "stream",
     "text": [
      "/var/folders/n6/6tdhcx8d7tq5v5rgh8bbvm8c0000gn/T/ipykernel_1581/2027165046.py:3: FutureWarning: \n",
      "\n",
      "Passing `palette` without assigning `hue` is deprecated and will be removed in v0.14.0. Assign the `x` variable to `hue` and set `legend=False` for the same effect.\n",
      "\n",
      "  sns.barplot(x='Variation', y='Error Rate', data=error_rates_df, palette=['skyblue', 'red'])\n"
     ]
    },
    {
     "data": {
      "image/png": "[encoded data removed]",
      "text/plain": [
       "<Figure size 1000x600 with 1 Axes>"
      ]
     },
     "metadata": {},
     "output_type": "display_data"
    }
   ],
   "source": [
    "# Plotting the error rates\n",
    "plt.figure(figsize=(10, 6))\n",
    "sns.barplot(x='Variation', y='Error Rate', data=error_rates_df, palette=['skyblue', 'red'])\n",
    "\n",
    "# Set plot title and labels\n",
    "plt.title('Error Rates for Control and Test Groups')\n",
    "plt.xlabel('Group')\n",
    "plt.ylabel('Error Rate')\n",
    "\n",
    "# Annotate with Chi-Square Test Results\n",
    "plt.text(0.5, 0.1, \n",
    "         f'Chi2: 337.95\\np-value: {1.79e-75:.2e}', \n",
    "         horizontalalignment='center', \n",
    "         verticalalignment='top', \n",
    "         fontsize=12, \n",
    "         bbox=dict(facecolor='white', alpha=0.5))\n",
    "\n",
    "# Show plot\n",
    "plt.show()"
   ]
  },
  {
   "cell_type": "markdown",
   "metadata": {},
   "source": [
    "Interpretation\n",
    "Chi-Square Statistic:\n",
    "\n",
    "The Chi-Square statistic of 625.11 is indeed quite large. This high value indicates a significant difference between the observed and expected frequencies.\n",
    "p-value:\n",
    "\n",
    "The p-value of 5.77 × 10^(-138) is extraordinarily small, which is much less than conventional significance levels such as 0.05 or 0.01.\n",
    "Conclusion\n",
    "Statistical Significance: The extremely small p-value confirms that the difference in error rates between the Control and Test groups is statistically significant. This means you can confidently reject the null hypothesis.\n",
    "\n",
    "Effect: Given that the Test group has a higher error rate (9.19%) compared to the Control group (6.77%), and the difference is statistically significant, it suggests that the new UI design in the Test group is associated with increased error rates.\n",
    "\n"
   ]
  },
  {
   "cell_type": "markdown",
   "metadata": {},
   "source": [
    "The results of the t-test provide additional insights into the comparison between the control and test groups. Let's interpret these results in the context of the earlier Chi-Square test results.\n",
    "\n",
    "T-Test Results\n",
    "T-Statistic: -1.121\n",
    "p-value: 0.869\n",
    "Interpretation\n",
    "T-Statistic: The t-statistic of -1.121 reflects the magnitude and direction of the difference between the means of the two groups relative to the variability in the data. A negative t-statistic suggests that the mean of the test group is lower than that of the control group, but this alone doesn't convey the significance.\n",
    "\n",
    "p-value: The p-value of 0.869 is much higher than typical significance levels (e.g., 0.05 or 0.01). This indicates that the observed difference in means is not statistically significant.\n",
    "\n",
    "Conclusion\n",
    "Fail to Reject the Null Hypothesis: With a p-value of 0.869, you fail to reject the null hypothesis. This means there is no significant difference in the means of session durations between the control and test groups.\n",
    "\n",
    "Comparison with Chi-Square Test Results: The t-test results and Chi-Square test results focus on different aspects:\n",
    "\n",
    "Chi-Square Test: Focuses on categorical data (error rates or frequencies of backward navigation) and shows a significant difference between the control and test groups.\n",
    "T-Test: Focuses on continuous data (session durations) and shows no significant difference between the two groups.\n",
    "Summary of Both Tests\n",
    "Chi-Square Test: Indicates a significant difference in error rates between the control and test groups, suggesting that the new UI design leads to more backward navigations (errors).\n",
    "\n",
    "T-Test: Indicates no significant difference in session durations between the control and test groups. This suggests that, in terms of session duration, the new UI does not differ significantly from the control."
   ]
  },
  {
   "cell_type": "markdown",
   "metadata": {},
   "source": [
    "Analyze error rates by different segments (e.g., client tenure, age, gender, number of accounts, balance) to identify if specific groups are more prone to errors.\n",
    "This can help tailor future improvements or targeted interventions for specific client segments."
   ]
  },
  {
   "cell_type": "markdown",
   "metadata": {},
   "source": [
    "This approach will help you understand how the new UI affects user behavior, specifically focusing on error rates indicated by backward navigation. The analysis will also provide insights into which segments of users are most affected, enabling more targeted improvements."
   ]
  },
  {
   "cell_type": "markdown",
   "metadata": {},
   "source": [
    "Compute the Time Spent on Each Step: Calculate the difference between the timestamps of consecutive steps for each user session.\n",
    "Aggregate the Time Spent by Step: Average these durations for each step across all user sessions.\n",
    "\n",
    "Create next_step_time: Use shift(-1) to get the timestamp of the next step within each user session.\n",
    "Calculate time_spent: Find the difference between next_step_time and date_time, then convert this to seconds.\n",
    "\n",
    "Drop Rows with NaN time_spent:\n",
    "Remove rows where time_spent is NaN, which would occur for the last step of each session since there is no next step to compare.\n",
    "Calculate Average Duration:\n",
    "\n",
    "Group by process_step and compute the mean of time_spent for each step.\n",
    "Reset the index and rename columns for clarity."
   ]
  },
  {
   "cell_type": "markdown",
   "metadata": {},
   "source": [
    "the average age of clients engaging with the new process is the same as those engaging with the old process"
   ]
  },
  {
   "cell_type": "markdown",
   "metadata": {},
   "source": [
    "Here's what each of these values represents:\n",
    "\n",
    "1. t_stat (T-Statistic)\n",
    "The t-statistic measures the difference between the means of the two groups relative to the variability in the data. In this case, the t-statistic is -1.121.\n",
    "\n",
    "A t-statistic of 0 would indicate no difference between the means.\n",
    "A positive or negative t-statistic shows the direction of the difference. Here, the negative value suggests that the mean of the \"Test\" group is lower than that of the \"Control\" group, though the magnitude of the difference is relatively small.\n",
    "2. p_value\n",
    "The p-value tells you whether the observed difference between the means is statistically significant.\n",
    "\n",
    "p_value = 0.262: This value indicates the probability of observing a t-statistic as extreme as -1.121 (or more extreme) if the null hypothesis were true. The null hypothesis here is that there is no difference between the means of the \"Test\" and \"Control\" groups.\n",
    "Interpretation\n",
    "In general:\n",
    "\n",
    "p_value > 0.05: Typically, if the p-value is greater than 0.05, it means the difference between the groups is not statistically significant at the 5% significance level.\n",
    "Since your p-value is 0.262, which is greater than 0.05, this suggests that there is not enough evidence to reject the null hypothesis. In other words, you do not have strong evidence to conclude that there is a statistically significant difference between the means of the \"Test\" and \"Control\" groups.\n",
    "Summary\n",
    "The t-statistic of -1.121 indicates a difference between the group means, but the p-value of 0.262 shows that this difference is not statistically significant, meaning that it could be due to random chance rather than a real effect."
   ]
  },
  {
   "cell_type": "markdown",
   "metadata": {},
   "source": [
    "Task Efficiency Hypothesis: Clients in the test group complete the process with fewer errors and retries compared to the control group."
   ]
  },
  {
   "cell_type": "code",
   "execution_count": 71,
   "metadata": {},
   "outputs": [],
   "source": [
    "control_df = variation_df[variation_df[\"Variation\"] == \"Control\"]\n",
    "test_df = variation_df[variation_df[\"Variation\"] == \"Test\"]"
   ]
  },
  {
   "cell_type": "code",
   "execution_count": 72,
   "metadata": {},
   "outputs": [
    {
     "data": {
      "image/png": "[encoded data removed]",
      "text/plain": [
       "<Figure size 1000x600 with 1 Axes>"
      ]
     },
     "metadata": {},
     "output_type": "display_data"
    }
   ],
   "source": [
    "# Plotting the histogram of the 'age' column\n",
    "plt.figure(figsize=(10, 6))\n",
    "plt.hist(control_df['clnt_age'], bins=15, edgecolor='black')\n",
    "plt.title('Histogram of Age (Control Group)')\n",
    "plt.xlabel('Age')\n",
    "plt.ylabel('Frequency')\n",
    "plt.show()"
   ]
  },
  {
   "cell_type": "code",
   "execution_count": 73,
   "metadata": {},
   "outputs": [
    {
     "data": {
      "image/png": "[encoded data removed]",
      "text/plain": [
       "<Figure size 1000x600 with 1 Axes>"
      ]
     },
     "metadata": {},
     "output_type": "display_data"
    }
   ],
   "source": [
    "plt.figure(figsize=(10, 6))\n",
    "plt.hist(test_df['clnt_age'], bins=15, edgecolor='black')\n",
    "plt.title('Histogram of Age (Test Group)')\n",
    "plt.xlabel('Age')\n",
    "plt.ylabel('Frequency')\n",
    "plt.show()"
   ]
  },
  {
   "cell_type": "code",
   "execution_count": 74,
   "metadata": {},
   "outputs": [
    {
     "data": {
      "image/png": "[encoded data removed]",
      "text/plain": [
       "<Figure size 800x800 with 1 Axes>"
      ]
     },
     "metadata": {},
     "output_type": "display_data"
    }
   ],
   "source": [
    "gender_counts = control_df['gendr'].value_counts()\n",
    "\n",
    "plt.figure(figsize=(8, 8))\n",
    "plt.pie(gender_counts, labels=gender_counts.index, autopct='%1.1f%%', startangle=140)\n",
    "plt.title('Gender Distribution (Control group)')\n",
    "plt.show()"
   ]
  },
  {
   "cell_type": "markdown",
   "metadata": {},
   "source": []
  },
  {
   "cell_type": "code",
   "execution_count": 75,
   "metadata": {},
   "outputs": [
    {
     "data": {
      "image/png": "[encoded data removed]",
      "text/plain": [
       "<Figure size 800x800 with 1 Axes>"
      ]
     },
     "metadata": {},
     "output_type": "display_data"
    }
   ],
   "source": [
    "# Plotting the pie chart of the 'gendr' column for test_df\n",
    "gender_counts_test = test_df['gendr'].value_counts()\n",
    "\n",
    "plt.figure(figsize=(8, 8))\n",
    "plt.pie(gender_counts_test, labels=gender_counts_test.index, autopct='%1.1f%%', startangle=140)\n",
    "plt.title('Gender Distribution in test_df')\n",
    "plt.show()"
   ]
  },
  {
   "cell_type": "code",
   "execution_count": 76,
   "metadata": {},
   "outputs": [
    {
     "data": {
      "image/png": "[encoded data removed]",
      "text/plain": [
       "<Figure size 1000x600 with 1 Axes>"
      ]
     },
     "metadata": {},
     "output_type": "display_data"
    }
   ],
   "source": [
    "# Plotting the histograms for clnt_age data from control_df and test_df in the same graph\n",
    "plt.figure(figsize=(10, 6))\n",
    "plt.hist(control_df['clnt_age'], bins=15, edgecolor='black', alpha=0.5, label='Age (Control Group)', color='blue')\n",
    "plt.hist(test_df['clnt_age'], bins=15, edgecolor='black', alpha=0.5, label='Age (Test Group)', color='orange')\n",
    "plt.title('Histogram of Age Data from Control and Test Groups')\n",
    "plt.xlabel('clnt_age')\n",
    "plt.ylabel('Frequency')\n",
    "plt.legend()\n",
    "plt.show()"
   ]
  }
 ],
 "metadata": {
  "kernelspec": {
   "display_name": "vanguard",
   "language": "python",
   "name": "python3"
  },
  "language_info": {
   "codemirror_mode": {
    "name": "ipython",
    "version": 3
   },
   "file_extension": ".py",
   "mimetype": "text/x-python",
   "name": "python",
   "nbconvert_exporter": "python",
   "pygments_lexer": "ipython3",
   "version": "3.12.4"
  }
 },
 "nbformat": 4,
 "nbformat_minor": 2
}
